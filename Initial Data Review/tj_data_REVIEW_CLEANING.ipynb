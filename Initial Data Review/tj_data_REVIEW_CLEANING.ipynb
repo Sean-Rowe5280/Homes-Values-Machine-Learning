{
 "cells": [
  {
   "cell_type": "code",
   "execution_count": 1,
   "id": "df1b7439",
   "metadata": {},
   "outputs": [],
   "source": [
    "import pandas as pd"
   ]
  },
  {
   "cell_type": "code",
   "execution_count": 2,
   "id": "102b1f26",
   "metadata": {},
   "outputs": [],
   "source": [
    "df=pd.read_csv(\"Resources/tj-locations.csv\")"
   ]
  },
  {
   "cell_type": "code",
   "execution_count": 3,
   "id": "1c76f21b",
   "metadata": {},
   "outputs": [
    {
     "data": {
      "text/html": [
       "<div>\n",
       "<style scoped>\n",
       "    .dataframe tbody tr th:only-of-type {\n",
       "        vertical-align: middle;\n",
       "    }\n",
       "\n",
       "    .dataframe tbody tr th {\n",
       "        vertical-align: top;\n",
       "    }\n",
       "\n",
       "    .dataframe thead th {\n",
       "        text-align: right;\n",
       "    }\n",
       "</style>\n",
       "<table border=\"1\" class=\"dataframe\">\n",
       "  <thead>\n",
       "    <tr style=\"text-align: right;\">\n",
       "      <th></th>\n",
       "      <th>name</th>\n",
       "      <th>latitude</th>\n",
       "      <th>longitude</th>\n",
       "      <th>street</th>\n",
       "      <th>city</th>\n",
       "      <th>state</th>\n",
       "      <th>zip</th>\n",
       "      <th>phone</th>\n",
       "      <th>website</th>\n",
       "    </tr>\n",
       "  </thead>\n",
       "  <tbody>\n",
       "    <tr>\n",
       "      <th>0</th>\n",
       "      <td>Trader Joe's Houston - Alabama Theater (426)</td>\n",
       "      <td>29.739211</td>\n",
       "      <td>-95.411323</td>\n",
       "      <td>2922 S Shepherd Drive</td>\n",
       "      <td>Houston</td>\n",
       "      <td>TX</td>\n",
       "      <td>77098</td>\n",
       "      <td>713-526-4034</td>\n",
       "      <td>https://locations.traderjoes.com/tx/houston/426/</td>\n",
       "    </tr>\n",
       "    <tr>\n",
       "      <th>1</th>\n",
       "      <td>Trader Joe's Houston - West (431)</td>\n",
       "      <td>29.735406</td>\n",
       "      <td>-95.582487</td>\n",
       "      <td>11683 Westheimer Rd</td>\n",
       "      <td>Houston</td>\n",
       "      <td>TX</td>\n",
       "      <td>77077</td>\n",
       "      <td>281-496-2488</td>\n",
       "      <td>https://locations.traderjoes.com/tx/houston/431/</td>\n",
       "    </tr>\n",
       "    <tr>\n",
       "      <th>2</th>\n",
       "      <td>Trader Joe's Houston - S Voss Rd (427)</td>\n",
       "      <td>29.752713</td>\n",
       "      <td>-95.501667</td>\n",
       "      <td>1440 South Voss Road</td>\n",
       "      <td>Houston</td>\n",
       "      <td>TX</td>\n",
       "      <td>77057</td>\n",
       "      <td>713-266-2377</td>\n",
       "      <td>https://locations.traderjoes.com/tx/houston/427/</td>\n",
       "    </tr>\n",
       "    <tr>\n",
       "      <th>3</th>\n",
       "      <td>Trader Joe's McKinney (408)</td>\n",
       "      <td>33.173697</td>\n",
       "      <td>-96.642874</td>\n",
       "      <td>2851 Craig Dr Ste 100</td>\n",
       "      <td>McKinney</td>\n",
       "      <td>TX</td>\n",
       "      <td>75070</td>\n",
       "      <td>214-491-1893</td>\n",
       "      <td>https://locations.traderjoes.com/tx/mckinney/408/</td>\n",
       "    </tr>\n",
       "    <tr>\n",
       "      <th>4</th>\n",
       "      <td>Trader Joe's Dallas Far North (407)</td>\n",
       "      <td>32.950870</td>\n",
       "      <td>-96.802823</td>\n",
       "      <td>14856 Preston Rd</td>\n",
       "      <td>Dallas</td>\n",
       "      <td>TX</td>\n",
       "      <td>75254</td>\n",
       "      <td>972-239-3901</td>\n",
       "      <td>https://locations.traderjoes.com/tx/dallas/407/</td>\n",
       "    </tr>\n",
       "  </tbody>\n",
       "</table>\n",
       "</div>"
      ],
      "text/plain": [
       "                                           name   latitude  longitude  \\\n",
       "0  Trader Joe's Houston - Alabama Theater (426)  29.739211 -95.411323   \n",
       "1             Trader Joe's Houston - West (431)  29.735406 -95.582487   \n",
       "2        Trader Joe's Houston - S Voss Rd (427)  29.752713 -95.501667   \n",
       "3                   Trader Joe's McKinney (408)  33.173697 -96.642874   \n",
       "4           Trader Joe's Dallas Far North (407)  32.950870 -96.802823   \n",
       "\n",
       "                  street      city state    zip         phone  \\\n",
       "0  2922 S Shepherd Drive   Houston    TX  77098  713-526-4034   \n",
       "1    11683 Westheimer Rd   Houston    TX  77077  281-496-2488   \n",
       "2   1440 South Voss Road   Houston    TX  77057  713-266-2377   \n",
       "3  2851 Craig Dr Ste 100  McKinney    TX  75070  214-491-1893   \n",
       "4       14856 Preston Rd    Dallas    TX  75254  972-239-3901   \n",
       "\n",
       "                                             website  \n",
       "0   https://locations.traderjoes.com/tx/houston/426/  \n",
       "1   https://locations.traderjoes.com/tx/houston/431/  \n",
       "2   https://locations.traderjoes.com/tx/houston/427/  \n",
       "3  https://locations.traderjoes.com/tx/mckinney/408/  \n",
       "4    https://locations.traderjoes.com/tx/dallas/407/  "
      ]
     },
     "execution_count": 3,
     "metadata": {},
     "output_type": "execute_result"
    }
   ],
   "source": [
    "df.head()"
   ]
  },
  {
   "cell_type": "code",
   "execution_count": 4,
   "id": "d08a5c0f",
   "metadata": {},
   "outputs": [
    {
     "data": {
      "text/plain": [
       "Index(['name', 'latitude', 'longitude', 'street', 'city', 'state', 'zip',\n",
       "       'phone', 'website'],\n",
       "      dtype='object')"
      ]
     },
     "execution_count": 4,
     "metadata": {},
     "output_type": "execute_result"
    }
   ],
   "source": [
    "df.columns"
   ]
  },
  {
   "cell_type": "code",
   "execution_count": 6,
   "id": "46a9df1b",
   "metadata": {},
   "outputs": [
    {
     "data": {
      "text/html": [
       "<div>\n",
       "<style scoped>\n",
       "    .dataframe tbody tr th:only-of-type {\n",
       "        vertical-align: middle;\n",
       "    }\n",
       "\n",
       "    .dataframe tbody tr th {\n",
       "        vertical-align: top;\n",
       "    }\n",
       "\n",
       "    .dataframe thead th {\n",
       "        text-align: right;\n",
       "    }\n",
       "</style>\n",
       "<table border=\"1\" class=\"dataframe\">\n",
       "  <thead>\n",
       "    <tr style=\"text-align: right;\">\n",
       "      <th></th>\n",
       "      <th>latitude</th>\n",
       "      <th>longitude</th>\n",
       "      <th>street</th>\n",
       "      <th>city</th>\n",
       "      <th>state</th>\n",
       "      <th>zip</th>\n",
       "    </tr>\n",
       "  </thead>\n",
       "  <tbody>\n",
       "    <tr>\n",
       "      <th>0</th>\n",
       "      <td>29.739211</td>\n",
       "      <td>-95.411323</td>\n",
       "      <td>2922 S Shepherd Drive</td>\n",
       "      <td>Houston</td>\n",
       "      <td>TX</td>\n",
       "      <td>77098</td>\n",
       "    </tr>\n",
       "    <tr>\n",
       "      <th>1</th>\n",
       "      <td>29.735406</td>\n",
       "      <td>-95.582487</td>\n",
       "      <td>11683 Westheimer Rd</td>\n",
       "      <td>Houston</td>\n",
       "      <td>TX</td>\n",
       "      <td>77077</td>\n",
       "    </tr>\n",
       "    <tr>\n",
       "      <th>2</th>\n",
       "      <td>29.752713</td>\n",
       "      <td>-95.501667</td>\n",
       "      <td>1440 South Voss Road</td>\n",
       "      <td>Houston</td>\n",
       "      <td>TX</td>\n",
       "      <td>77057</td>\n",
       "    </tr>\n",
       "    <tr>\n",
       "      <th>3</th>\n",
       "      <td>33.173697</td>\n",
       "      <td>-96.642874</td>\n",
       "      <td>2851 Craig Dr Ste 100</td>\n",
       "      <td>McKinney</td>\n",
       "      <td>TX</td>\n",
       "      <td>75070</td>\n",
       "    </tr>\n",
       "    <tr>\n",
       "      <th>4</th>\n",
       "      <td>32.950870</td>\n",
       "      <td>-96.802823</td>\n",
       "      <td>14856 Preston Rd</td>\n",
       "      <td>Dallas</td>\n",
       "      <td>TX</td>\n",
       "      <td>75254</td>\n",
       "    </tr>\n",
       "  </tbody>\n",
       "</table>\n",
       "</div>"
      ],
      "text/plain": [
       "    latitude  longitude                 street      city state    zip\n",
       "0  29.739211 -95.411323  2922 S Shepherd Drive   Houston    TX  77098\n",
       "1  29.735406 -95.582487    11683 Westheimer Rd   Houston    TX  77077\n",
       "2  29.752713 -95.501667   1440 South Voss Road   Houston    TX  77057\n",
       "3  33.173697 -96.642874  2851 Craig Dr Ste 100  McKinney    TX  75070\n",
       "4  32.950870 -96.802823       14856 Preston Rd    Dallas    TX  75254"
      ]
     },
     "execution_count": 6,
     "metadata": {},
     "output_type": "execute_result"
    }
   ],
   "source": [
    "tj_locations=df.drop(columns=['name','phone', 'website'], axis= 1)\n",
    "tj_locations.head()                        "
   ]
  },
  {
   "cell_type": "code",
   "execution_count": 7,
   "id": "6646d703",
   "metadata": {},
   "outputs": [
    {
     "data": {
      "text/plain": [
       "latitude     0\n",
       "longitude    0\n",
       "street       0\n",
       "city         0\n",
       "state        0\n",
       "zip          0\n",
       "dtype: int64"
      ]
     },
     "execution_count": 7,
     "metadata": {},
     "output_type": "execute_result"
    }
   ],
   "source": [
    "tj_locations.isnull().sum()"
   ]
  },
  {
   "cell_type": "code",
   "execution_count": 8,
   "id": "cba2c2a0",
   "metadata": {},
   "outputs": [
    {
     "data": {
      "text/plain": [
       "545"
      ]
     },
     "execution_count": 8,
     "metadata": {},
     "output_type": "execute_result"
    }
   ],
   "source": [
    "len(tj_locations)"
   ]
  },
  {
   "cell_type": "code",
   "execution_count": 9,
   "id": "53f67e3f",
   "metadata": {},
   "outputs": [],
   "source": [
    "tj_locations.to_csv(\"Resources/tj_locations_CLEANED_V1.csv\")"
   ]
  }
 ],
 "metadata": {
  "kernelspec": {
   "display_name": "Python 3 (ipykernel)",
   "language": "python",
   "name": "python3"
  },
  "language_info": {
   "codemirror_mode": {
    "name": "ipython",
    "version": 3
   },
   "file_extension": ".py",
   "mimetype": "text/x-python",
   "name": "python",
   "nbconvert_exporter": "python",
   "pygments_lexer": "ipython3",
   "version": "3.7.13"
  }
 },
 "nbformat": 4,
 "nbformat_minor": 5
}
