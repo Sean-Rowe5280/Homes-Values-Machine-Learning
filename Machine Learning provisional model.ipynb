{
 "cells": [
  {
   "cell_type": "markdown",
   "id": "5cac998f",
   "metadata": {},
   "source": [
    "## Model 1 Linear Regression (from linear regression class module)"
   ]
  },
  {
   "cell_type": "code",
   "execution_count": null,
   "id": "8c125b9d",
   "metadata": {},
   "outputs": [],
   "source": [
    "import pandas as pd\n",
    "from pathlib import Path\n",
    "import matplotlib.pyplot as plt\n",
    "from sklearn.linear_model import LinearRegression"
   ]
  },
  {
   "cell_type": "code",
   "execution_count": null,
   "id": "a22f0b0a",
   "metadata": {},
   "outputs": [],
   "source": [
    "# Ignore Warnings\n",
    "import warnings\n",
    "warnings.filterwarnings(\"ignore\")\n"
   ]
  },
  {
   "cell_type": "code",
   "execution_count": null,
   "id": "a14b0d8a",
   "metadata": {},
   "outputs": [],
   "source": [
    "# data preparation, enter in our csv file, or json if we go that route\n",
    "df = pd.read_csv(Path('./_________'))\n",
    "df.head()"
   ]
  },
  {
   "cell_type": "code",
   "execution_count": null,
   "id": "6ec5f712",
   "metadata": {},
   "outputs": [],
   "source": [
    "# change the variables/features for our data\n",
    "\n",
    "plt.scatter(df.YearsExperience, df.Salary)\n",
    "plt.xlabel('Years of Experience')\n",
    "plt.ylabel('Salary in USD')\n",
    "plt.show()"
   ]
  },
  {
   "cell_type": "code",
   "execution_count": null,
   "id": "3a7a4f3c",
   "metadata": {},
   "outputs": [],
   "source": [
    "# change the variables/features for our data\n",
    "\n",
    "X = df.YearsExperience.values.reshape(-1, 1)"
   ]
  },
  {
   "cell_type": "code",
   "execution_count": null,
   "id": "713bc938",
   "metadata": {},
   "outputs": [],
   "source": [
    "X[:5]"
   ]
  },
  {
   "cell_type": "code",
   "execution_count": null,
   "id": "00743129",
   "metadata": {},
   "outputs": [],
   "source": [
    "X.shape"
   ]
  },
  {
   "cell_type": "code",
   "execution_count": null,
   "id": "7d1c4942",
   "metadata": {},
   "outputs": [],
   "source": [
    "# change the variables/features for our data\n",
    "\n",
    "y = df.Salary"
   ]
  },
  {
   "cell_type": "code",
   "execution_count": null,
   "id": "a58b50a8",
   "metadata": {},
   "outputs": [],
   "source": [
    "model = LinearRegression()"
   ]
  },
  {
   "cell_type": "code",
   "execution_count": null,
   "id": "80e7266a",
   "metadata": {},
   "outputs": [],
   "source": [
    "y_pred = model.predict(X)\n",
    "print(y_pred.shape)"
   ]
  },
  {
   "cell_type": "code",
   "execution_count": null,
   "id": "dc875f69",
   "metadata": {},
   "outputs": [],
   "source": [
    "plt.scatter(X, y)\n",
    "plt.plot(X, y_pred, color='red')\n",
    "plt.show()"
   ]
  },
  {
   "cell_type": "code",
   "execution_count": null,
   "id": "246185b6",
   "metadata": {},
   "outputs": [],
   "source": [
    "print(model.coef_)\n",
    "print(model.intercept_)"
   ]
  },
  {
   "cell_type": "code",
   "execution_count": null,
   "id": "0d43534c",
   "metadata": {},
   "outputs": [],
   "source": [
    "import matplotlib.pyplot as plt\n",
    "import pandas as pd\n",
    "\n",
    "from sklearn.datasets import make_blobs\n",
    "X, y = make_blobs(centers=2, random_state=42)\n",
    "\n",
    "print(f\"Labels: {y[:10]}\")\n",
    "print(f\"Data: {X[:10]}\")"
   ]
  },
  {
   "cell_type": "code",
   "execution_count": null,
   "id": "694f8e34",
   "metadata": {},
   "outputs": [],
   "source": [
    "plt.scatter(X[:, 0], X[:, 1], c=y)"
   ]
  },
  {
   "cell_type": "code",
   "execution_count": null,
   "id": "6e72da06",
   "metadata": {},
   "outputs": [],
   "source": [
    "from sklearn.model_selection import train_test_split\n",
    "X_train, X_test, y_train, y_test = train_test_split(X,\n",
    "    y, random_state=1, stratify=y)"
   ]
  },
  {
   "cell_type": "code",
   "execution_count": null,
   "id": "46db81bf",
   "metadata": {},
   "outputs": [],
   "source": [
    "from sklearn.linear_model import LogisticRegression\n",
    "classifier = LogisticRegression(solver='lbfgs', random_state=1)\n",
    "classifier"
   ]
  },
  {
   "cell_type": "code",
   "execution_count": null,
   "id": "ca844551",
   "metadata": {},
   "outputs": [],
   "source": [
    "LogisticRegression(C=1.0, class_weight=None, dual=False, fit_intercept=True,\n",
    "   intercept_scaling=1, max_iter=100, multi_class='warn', penalty='12',\n",
    "   random_state=1, solver='lbfgs', tol=0.0001, warm_start=False)"
   ]
  },
  {
   "cell_type": "code",
   "execution_count": null,
   "id": "18080a5a",
   "metadata": {},
   "outputs": [],
   "source": [
    "classifier.fit(X_train, y_train)"
   ]
  },
  {
   "cell_type": "code",
   "execution_count": null,
   "id": "4d69f6c5",
   "metadata": {},
   "outputs": [],
   "source": [
    "predictions = classifier.predict(X_test)\n",
    "pd.DataFrame({\"Prediction\": predictions, \"Actual\": y_test})"
   ]
  },
  {
   "cell_type": "code",
   "execution_count": null,
   "id": "9331c26b",
   "metadata": {},
   "outputs": [],
   "source": [
    "from sklearn.metrics import accuracy_score\n",
    "accuracy_score(y_test, predictions)"
   ]
  },
  {
   "cell_type": "code",
   "execution_count": null,
   "id": "b01c3cb3",
   "metadata": {},
   "outputs": [],
   "source": [
    "import numpy as np\n",
    "new_data = np.array([[-2, 6]])\n",
    "plt.scatter(X[:, 0], X[:, 1], c=y)\n",
    "plt.scatter(new_data[0, 0], new_data[0, 1], c=\"r\", marker=\"o\", s=100)\n",
    "plt.show()"
   ]
  },
  {
   "cell_type": "code",
   "execution_count": null,
   "id": "740828a9",
   "metadata": {},
   "outputs": [],
   "source": [
    "predictions = classifier.predict(new_data)\n",
    "print(\"Classes are either 0 (purple) or 1 (yellow)\")\n",
    "print(f\"The new point was classified as: {predictions}\")"
   ]
  },
  {
   "cell_type": "code",
   "execution_count": null,
   "id": "60776525",
   "metadata": {},
   "outputs": [],
   "source": [
    "from sklearn.metrics import confusion_matrix\n",
    "confusion_matrix(y_test, y_pred)\n",
    "\n",
    "from sklearn.metrics import classification_report\n",
    "print(classification_report(y_test, y_pred))"
   ]
  },
  {
   "cell_type": "markdown",
   "id": "bc92eb33",
   "metadata": {},
   "source": [
    "## Model 2 - Random Forest Regression (based on challenge 17 homework)"
   ]
  },
  {
   "cell_type": "code",
   "execution_count": null,
   "id": "d73f33f7",
   "metadata": {},
   "outputs": [],
   "source": [
    "pip install imbalanced-learn==0.9.0"
   ]
  },
  {
   "cell_type": "code",
   "execution_count": null,
   "id": "d9b6c8d7",
   "metadata": {},
   "outputs": [],
   "source": [
    "pip install scikit-learn==1.0"
   ]
  },
  {
   "cell_type": "code",
   "execution_count": null,
   "id": "2effcce9",
   "metadata": {},
   "outputs": [],
   "source": [
    "# Resample the training data with the BalancedRandomForestClassifier\n",
    "# figure out why i'm getting an attribute error.......................................figured it out, had to pip install two items on top, per ask bcs.\n",
    "\n",
    "from imblearn.ensemble import BalancedRandomForestClassifier\n",
    "rf_model = BalancedRandomForestClassifier(n_estimators =100, random_state=1)\n",
    "rf_model.fit(X_train, y_train)\n"
   ]
  },
  {
   "cell_type": "code",
   "execution_count": null,
   "id": "bd1ec7ca",
   "metadata": {},
   "outputs": [],
   "source": [
    "# Calculate predictions\n",
    "\n",
    "y_pred = rf_model.predict(X_test)\n",
    "y_pred"
   ]
  },
  {
   "cell_type": "code",
   "execution_count": null,
   "id": "d187413e",
   "metadata": {},
   "outputs": [],
   "source": [
    "# Calculated the balanced accuracy score\n",
    "\n",
    "from sklearn.metrics import confusion_matrix, accuracy_score\n",
    "balanced_accuracy_score(y_test,y_pred)"
   ]
  },
  {
   "cell_type": "code",
   "execution_count": null,
   "id": "455bd897",
   "metadata": {},
   "outputs": [],
   "source": [
    "# Display the confusion matrix\n",
    "\n",
    "from sklearn.metrics import confusion_matrix\n",
    "confusion_matrix(y_test, y_pred)"
   ]
  },
  {
   "cell_type": "code",
   "execution_count": null,
   "id": "76888b57",
   "metadata": {},
   "outputs": [],
   "source": [
    "# Print the imbalanced classification report\n",
    "\n",
    "print(classification_report_imbalanced(y_test, y_pred))"
   ]
  },
  {
   "cell_type": "code",
   "execution_count": null,
   "id": "c27392e9",
   "metadata": {},
   "outputs": [],
   "source": [
    "# List the features sorted in descending order by feature importance\n",
    "\n",
    "importances = sorted(zip(rf_model.feature_importances_, X.columns), reverse=True)\n",
    "for importance in importances:\n",
    "    print(f'{importance[1]}:  {importance[0]*100:.1f}%')"
   ]
  },
  {
   "cell_type": "markdown",
   "id": "5cafd90d",
   "metadata": {},
   "source": [
    "## Model 3 - XGBoost Regression (Gradient Boost) (didn't cover gradient boost in class, maybe only have 2 models....?)"
   ]
  },
  {
   "cell_type": "code",
   "execution_count": null,
   "id": "df32286d",
   "metadata": {},
   "outputs": [],
   "source": [
    "## Reference for random search on xgboost\n",
    "## https://gist.github.com/wrwr/3f6b66bf4ee01bf48be965f60d14454d\n",
    "tuned_params = {'max_depth': [1, 2, 3, 4, 5], 'learning_rate': [0.01, 0.05, 0.1], 'n_estimators': [100, 200, 300, 400, 500], 'reg_lambda': [0.001, 0.1, 1.0, 10.0, 100.0]}\n",
    "model = RandomizedSearchCV(XGBRegressor(), tuned_params, n_iter=20, scoring = 'neg_mean_absolute_error', cv=5, n_jobs=-1)\n",
    "model.fit(X_train, y_train)"
   ]
  },
  {
   "cell_type": "code",
   "execution_count": null,
   "id": "5ec44990",
   "metadata": {},
   "outputs": [],
   "source": [
    "model.best_estimator_\n"
   ]
  },
  {
   "cell_type": "code",
   "execution_count": null,
   "id": "0e2e1ae8",
   "metadata": {},
   "outputs": [],
   "source": [
    "## Predict Train results\n",
    "y_train_pred = model.predict(X_train)\n"
   ]
  },
  {
   "cell_type": "code",
   "execution_count": null,
   "id": "1583794e",
   "metadata": {},
   "outputs": [],
   "source": [
    "## Predict Test results\n",
    "y_pred = model.predict(X_test)\n"
   ]
  },
  {
   "cell_type": "code",
   "execution_count": null,
   "id": "0d3dd0b8",
   "metadata": {},
   "outputs": [],
   "source": [
    "\n",
    "print(\"Train Results for XGBoost Regression:\")\n",
    "print(\"*******************************\")\n",
    "print(\"Root mean squared error: \", sqrt(mse(y_train.values, y_train_pred)))\n",
    "print(\"R-squared: \", rs(y_train.values, y_train_pred))\n",
    "print(\"Mean Absolute Error: \", mae(y_train.values, y_train_pred))\n"
   ]
  },
  {
   "cell_type": "code",
   "execution_count": null,
   "id": "a1712407",
   "metadata": {},
   "outputs": [],
   "source": [
    "\n",
    "print(\"Test Results for XGBoost Regression:\")\n",
    "print(\"*******************************\")\n",
    "print(\"Root mean squared error: \", sqrt(mse(y_test, y_pred)))\n",
    "print(\"R-squared: \", r2_score(y_test, y_pred))\n",
    "print(\"Mean Absolute Error: \", mae(y_test, y_pred))\n"
   ]
  },
  {
   "cell_type": "code",
   "execution_count": null,
   "id": "c699c276",
   "metadata": {},
   "outputs": [],
   "source": [
    "# Feature importance, again, not sure if we'll need this part...\n",
    "\n",
    "## Building the model again with the best hyperparameters\n",
    "model = XGBRegressor(max_depth=2,learning_rate=0.05,n_estimators=400, reg_lambda=0.001)\n",
    "model.fit(X_train, y_train)\n",
    "\n"
   ]
  },
  {
   "cell_type": "code",
   "execution_count": null,
   "id": "9d853423",
   "metadata": {},
   "outputs": [],
   "source": [
    "## Function to include figsize parameter\n",
    "## Reference: https://stackoverflow.com/questions/40081888/xgboost-plot-importance-figure-size\n",
    "def my_plot_importance(booster, figsize, **kwargs): \n",
    "    from matplotlib import pyplot as plt\n",
    "    from xgboost import plot_importance\n",
    "    fig, ax = plt.subplots(1,1,figsize=figsize)\n",
    "    return plot_importance(booster=booster, ax=ax, **kwargs)"
   ]
  },
  {
   "cell_type": "code",
   "execution_count": null,
   "id": "07ec0449",
   "metadata": {},
   "outputs": [],
   "source": [
    "#not sure if we want a feature importance horizontal bar plot\n",
    "my_plot_importance(model, (10,10))\n",
    "\n"
   ]
  }
 ],
 "metadata": {
  "kernelspec": {
   "display_name": "mlenv",
   "language": "python",
   "name": "mlenv"
  },
  "language_info": {
   "codemirror_mode": {
    "name": "ipython",
    "version": 3
   },
   "file_extension": ".py",
   "mimetype": "text/x-python",
   "name": "python",
   "nbconvert_exporter": "python",
   "pygments_lexer": "ipython3",
   "version": "3.7.13"
  }
 },
 "nbformat": 4,
 "nbformat_minor": 5
}
