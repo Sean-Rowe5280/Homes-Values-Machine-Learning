{
 "cells": [
  {
   "cell_type": "code",
   "execution_count": 1,
   "id": "bd19459f",
   "metadata": {},
   "outputs": [],
   "source": [
    "# Import dependencies\n",
    "import pandas as pd"
   ]
  },
  {
   "cell_type": "code",
   "execution_count": 2,
   "id": "14e073cc",
   "metadata": {},
   "outputs": [
    {
     "data": {
      "text/html": [
       "<div>\n",
       "<style scoped>\n",
       "    .dataframe tbody tr th:only-of-type {\n",
       "        vertical-align: middle;\n",
       "    }\n",
       "\n",
       "    .dataframe tbody tr th {\n",
       "        vertical-align: top;\n",
       "    }\n",
       "\n",
       "    .dataframe thead th {\n",
       "        text-align: right;\n",
       "    }\n",
       "</style>\n",
       "<table border=\"1\" class=\"dataframe\">\n",
       "  <thead>\n",
       "    <tr style=\"text-align: right;\">\n",
       "      <th></th>\n",
       "      <th>status</th>\n",
       "      <th>price</th>\n",
       "      <th>bed</th>\n",
       "      <th>bath</th>\n",
       "      <th>acre_lot</th>\n",
       "      <th>full_address</th>\n",
       "      <th>street</th>\n",
       "      <th>city</th>\n",
       "      <th>state</th>\n",
       "      <th>zip_code</th>\n",
       "      <th>house_size</th>\n",
       "      <th>sold_date</th>\n",
       "    </tr>\n",
       "  </thead>\n",
       "  <tbody>\n",
       "    <tr>\n",
       "      <th>0</th>\n",
       "      <td>for_sale</td>\n",
       "      <td>105000.0</td>\n",
       "      <td>3.0</td>\n",
       "      <td>2.0</td>\n",
       "      <td>0.12</td>\n",
       "      <td>Sector Yahuecas Titulo # V84, Adjuntas, PR, 00601</td>\n",
       "      <td>Sector Yahuecas Titulo # V84</td>\n",
       "      <td>Adjuntas</td>\n",
       "      <td>Puerto Rico</td>\n",
       "      <td>601.0</td>\n",
       "      <td>920.0</td>\n",
       "      <td>NaN</td>\n",
       "    </tr>\n",
       "    <tr>\n",
       "      <th>1</th>\n",
       "      <td>for_sale</td>\n",
       "      <td>80000.0</td>\n",
       "      <td>4.0</td>\n",
       "      <td>2.0</td>\n",
       "      <td>0.08</td>\n",
       "      <td>Km 78 9 Carr # 135, Adjuntas, PR, 00601</td>\n",
       "      <td>Km 78 9 Carr # 135</td>\n",
       "      <td>Adjuntas</td>\n",
       "      <td>Puerto Rico</td>\n",
       "      <td>601.0</td>\n",
       "      <td>1527.0</td>\n",
       "      <td>NaN</td>\n",
       "    </tr>\n",
       "    <tr>\n",
       "      <th>2</th>\n",
       "      <td>for_sale</td>\n",
       "      <td>67000.0</td>\n",
       "      <td>2.0</td>\n",
       "      <td>1.0</td>\n",
       "      <td>0.15</td>\n",
       "      <td>556G 556-G 16 St, Juana Diaz, PR, 00795</td>\n",
       "      <td>556G 556-G 16 St</td>\n",
       "      <td>Juana Diaz</td>\n",
       "      <td>Puerto Rico</td>\n",
       "      <td>795.0</td>\n",
       "      <td>748.0</td>\n",
       "      <td>NaN</td>\n",
       "    </tr>\n",
       "    <tr>\n",
       "      <th>3</th>\n",
       "      <td>for_sale</td>\n",
       "      <td>145000.0</td>\n",
       "      <td>4.0</td>\n",
       "      <td>2.0</td>\n",
       "      <td>0.10</td>\n",
       "      <td>R5 Comunidad El Paraso Calle De Oro R-5 Ponce,...</td>\n",
       "      <td>R5 Comunidad El Paraso Calle De Oro R-5 Ponce</td>\n",
       "      <td>Ponce</td>\n",
       "      <td>Puerto Rico</td>\n",
       "      <td>731.0</td>\n",
       "      <td>1800.0</td>\n",
       "      <td>NaN</td>\n",
       "    </tr>\n",
       "    <tr>\n",
       "      <th>4</th>\n",
       "      <td>for_sale</td>\n",
       "      <td>65000.0</td>\n",
       "      <td>6.0</td>\n",
       "      <td>2.0</td>\n",
       "      <td>0.05</td>\n",
       "      <td>14 Navarro, Mayaguez, PR, 00680</td>\n",
       "      <td>14 Navarro</td>\n",
       "      <td>Mayaguez</td>\n",
       "      <td>Puerto Rico</td>\n",
       "      <td>680.0</td>\n",
       "      <td>NaN</td>\n",
       "      <td>NaN</td>\n",
       "    </tr>\n",
       "  </tbody>\n",
       "</table>\n",
       "</div>"
      ],
      "text/plain": [
       "     status     price  bed  bath  acre_lot  \\\n",
       "0  for_sale  105000.0  3.0   2.0      0.12   \n",
       "1  for_sale   80000.0  4.0   2.0      0.08   \n",
       "2  for_sale   67000.0  2.0   1.0      0.15   \n",
       "3  for_sale  145000.0  4.0   2.0      0.10   \n",
       "4  for_sale   65000.0  6.0   2.0      0.05   \n",
       "\n",
       "                                        full_address  \\\n",
       "0  Sector Yahuecas Titulo # V84, Adjuntas, PR, 00601   \n",
       "1            Km 78 9 Carr # 135, Adjuntas, PR, 00601   \n",
       "2            556G 556-G 16 St, Juana Diaz, PR, 00795   \n",
       "3  R5 Comunidad El Paraso Calle De Oro R-5 Ponce,...   \n",
       "4                    14 Navarro, Mayaguez, PR, 00680   \n",
       "\n",
       "                                          street        city        state  \\\n",
       "0                   Sector Yahuecas Titulo # V84    Adjuntas  Puerto Rico   \n",
       "1                             Km 78 9 Carr # 135    Adjuntas  Puerto Rico   \n",
       "2                               556G 556-G 16 St  Juana Diaz  Puerto Rico   \n",
       "3  R5 Comunidad El Paraso Calle De Oro R-5 Ponce       Ponce  Puerto Rico   \n",
       "4                                     14 Navarro    Mayaguez  Puerto Rico   \n",
       "\n",
       "   zip_code  house_size sold_date  \n",
       "0     601.0       920.0       NaN  \n",
       "1     601.0      1527.0       NaN  \n",
       "2     795.0       748.0       NaN  \n",
       "3     731.0      1800.0       NaN  \n",
       "4     680.0         NaN       NaN  "
      ]
     },
     "execution_count": 2,
     "metadata": {},
     "output_type": "execute_result"
    }
   ],
   "source": [
    "# Create real estate dataframe\n",
    "real_estate_df=pd.read_csv(\"Resources/Real_Estate_Data.csv\")\n",
    "real_estate_df.head()"
   ]
  },
  {
   "cell_type": "code",
   "execution_count": 3,
   "id": "5413ba34",
   "metadata": {},
   "outputs": [
    {
     "data": {
      "text/html": [
       "<div>\n",
       "<style scoped>\n",
       "    .dataframe tbody tr th:only-of-type {\n",
       "        vertical-align: middle;\n",
       "    }\n",
       "\n",
       "    .dataframe tbody tr th {\n",
       "        vertical-align: top;\n",
       "    }\n",
       "\n",
       "    .dataframe thead th {\n",
       "        text-align: right;\n",
       "    }\n",
       "</style>\n",
       "<table border=\"1\" class=\"dataframe\">\n",
       "  <thead>\n",
       "    <tr style=\"text-align: right;\">\n",
       "      <th></th>\n",
       "      <th>name</th>\n",
       "      <th>latitude</th>\n",
       "      <th>longitude</th>\n",
       "      <th>street</th>\n",
       "      <th>city</th>\n",
       "      <th>state</th>\n",
       "      <th>zip</th>\n",
       "      <th>phone</th>\n",
       "      <th>website</th>\n",
       "    </tr>\n",
       "  </thead>\n",
       "  <tbody>\n",
       "    <tr>\n",
       "      <th>0</th>\n",
       "      <td>Trader Joe's Houston - Alabama Theater (426)</td>\n",
       "      <td>29.739211</td>\n",
       "      <td>-95.411323</td>\n",
       "      <td>2922 S Shepherd Drive</td>\n",
       "      <td>Houston</td>\n",
       "      <td>TX</td>\n",
       "      <td>77098</td>\n",
       "      <td>713-526-4034</td>\n",
       "      <td>https://locations.traderjoes.com/tx/houston/426/</td>\n",
       "    </tr>\n",
       "    <tr>\n",
       "      <th>1</th>\n",
       "      <td>Trader Joe's Houston - West (431)</td>\n",
       "      <td>29.735406</td>\n",
       "      <td>-95.582487</td>\n",
       "      <td>11683 Westheimer Rd</td>\n",
       "      <td>Houston</td>\n",
       "      <td>TX</td>\n",
       "      <td>77077</td>\n",
       "      <td>281-496-2488</td>\n",
       "      <td>https://locations.traderjoes.com/tx/houston/431/</td>\n",
       "    </tr>\n",
       "    <tr>\n",
       "      <th>2</th>\n",
       "      <td>Trader Joe's Houston - S Voss Rd (427)</td>\n",
       "      <td>29.752713</td>\n",
       "      <td>-95.501667</td>\n",
       "      <td>1440 South Voss Road</td>\n",
       "      <td>Houston</td>\n",
       "      <td>TX</td>\n",
       "      <td>77057</td>\n",
       "      <td>713-266-2377</td>\n",
       "      <td>https://locations.traderjoes.com/tx/houston/427/</td>\n",
       "    </tr>\n",
       "    <tr>\n",
       "      <th>3</th>\n",
       "      <td>Trader Joe's McKinney (408)</td>\n",
       "      <td>33.173697</td>\n",
       "      <td>-96.642874</td>\n",
       "      <td>2851 Craig Dr Ste 100</td>\n",
       "      <td>McKinney</td>\n",
       "      <td>TX</td>\n",
       "      <td>75070</td>\n",
       "      <td>214-491-1893</td>\n",
       "      <td>https://locations.traderjoes.com/tx/mckinney/408/</td>\n",
       "    </tr>\n",
       "    <tr>\n",
       "      <th>4</th>\n",
       "      <td>Trader Joe's Dallas Far North (407)</td>\n",
       "      <td>32.950870</td>\n",
       "      <td>-96.802823</td>\n",
       "      <td>14856 Preston Rd</td>\n",
       "      <td>Dallas</td>\n",
       "      <td>TX</td>\n",
       "      <td>75254</td>\n",
       "      <td>972-239-3901</td>\n",
       "      <td>https://locations.traderjoes.com/tx/dallas/407/</td>\n",
       "    </tr>\n",
       "  </tbody>\n",
       "</table>\n",
       "</div>"
      ],
      "text/plain": [
       "                                           name   latitude  longitude  \\\n",
       "0  Trader Joe's Houston - Alabama Theater (426)  29.739211 -95.411323   \n",
       "1             Trader Joe's Houston - West (431)  29.735406 -95.582487   \n",
       "2        Trader Joe's Houston - S Voss Rd (427)  29.752713 -95.501667   \n",
       "3                   Trader Joe's McKinney (408)  33.173697 -96.642874   \n",
       "4           Trader Joe's Dallas Far North (407)  32.950870 -96.802823   \n",
       "\n",
       "                  street      city state    zip         phone  \\\n",
       "0  2922 S Shepherd Drive   Houston    TX  77098  713-526-4034   \n",
       "1    11683 Westheimer Rd   Houston    TX  77077  281-496-2488   \n",
       "2   1440 South Voss Road   Houston    TX  77057  713-266-2377   \n",
       "3  2851 Craig Dr Ste 100  McKinney    TX  75070  214-491-1893   \n",
       "4       14856 Preston Rd    Dallas    TX  75254  972-239-3901   \n",
       "\n",
       "                                             website  \n",
       "0   https://locations.traderjoes.com/tx/houston/426/  \n",
       "1   https://locations.traderjoes.com/tx/houston/431/  \n",
       "2   https://locations.traderjoes.com/tx/houston/427/  \n",
       "3  https://locations.traderjoes.com/tx/mckinney/408/  \n",
       "4    https://locations.traderjoes.com/tx/dallas/407/  "
      ]
     },
     "execution_count": 3,
     "metadata": {},
     "output_type": "execute_result"
    }
   ],
   "source": [
    "# Create Trader Joe's dataframe\n",
    "trader_joes_df=pd.read_csv(\"Resources/Trader_Joes_Stores.csv\")\n",
    "trader_joes_df.head()"
   ]
  },
  {
   "cell_type": "code",
   "execution_count": 4,
   "id": "64f39d43",
   "metadata": {},
   "outputs": [
    {
     "data": {
      "text/plain": [
       "923159"
      ]
     },
     "execution_count": 4,
     "metadata": {},
     "output_type": "execute_result"
    }
   ],
   "source": [
    "# Find the length of the real estate df\n",
    "len(real_estate_df)"
   ]
  },
  {
   "cell_type": "code",
   "execution_count": 5,
   "id": "85225c1c",
   "metadata": {},
   "outputs": [
    {
     "data": {
      "text/plain": [
       "status               0\n",
       "price               71\n",
       "bed             131703\n",
       "bath            115192\n",
       "acre_lot        273623\n",
       "full_address         0\n",
       "street            2138\n",
       "city                74\n",
       "state                0\n",
       "zip_code           205\n",
       "house_size      297843\n",
       "sold_date       466763\n",
       "dtype: int64"
      ]
     },
     "execution_count": 5,
     "metadata": {},
     "output_type": "execute_result"
    }
   ],
   "source": [
    "# Find the number of null values in each column\n",
    "real_estate_df.isnull().sum()"
   ]
  },
  {
   "cell_type": "code",
   "execution_count": 6,
   "id": "ade41095",
   "metadata": {},
   "outputs": [
    {
     "data": {
      "text/plain": [
       "array(['for_sale', 'ready_to_build'], dtype=object)"
      ]
     },
     "execution_count": 6,
     "metadata": {},
     "output_type": "execute_result"
    }
   ],
   "source": [
    "# Find unique values for the status column\n",
    "real_estate_df.status.unique()"
   ]
  },
  {
   "cell_type": "code",
   "execution_count": 7,
   "id": "473dac48",
   "metadata": {},
   "outputs": [
    {
     "data": {
      "text/html": [
       "<div>\n",
       "<style scoped>\n",
       "    .dataframe tbody tr th:only-of-type {\n",
       "        vertical-align: middle;\n",
       "    }\n",
       "\n",
       "    .dataframe tbody tr th {\n",
       "        vertical-align: top;\n",
       "    }\n",
       "\n",
       "    .dataframe thead th {\n",
       "        text-align: right;\n",
       "    }\n",
       "</style>\n",
       "<table border=\"1\" class=\"dataframe\">\n",
       "  <thead>\n",
       "    <tr style=\"text-align: right;\">\n",
       "      <th></th>\n",
       "      <th>price</th>\n",
       "      <th>bed</th>\n",
       "      <th>bath</th>\n",
       "      <th>acre_lot</th>\n",
       "      <th>full_address</th>\n",
       "      <th>city</th>\n",
       "      <th>state</th>\n",
       "      <th>zip_code</th>\n",
       "      <th>house_size</th>\n",
       "    </tr>\n",
       "  </thead>\n",
       "  <tbody>\n",
       "    <tr>\n",
       "      <th>0</th>\n",
       "      <td>105000.0</td>\n",
       "      <td>3.0</td>\n",
       "      <td>2.0</td>\n",
       "      <td>0.12</td>\n",
       "      <td>Sector Yahuecas Titulo # V84, Adjuntas, PR, 00601</td>\n",
       "      <td>Adjuntas</td>\n",
       "      <td>Puerto Rico</td>\n",
       "      <td>601.0</td>\n",
       "      <td>920.0</td>\n",
       "    </tr>\n",
       "    <tr>\n",
       "      <th>1</th>\n",
       "      <td>80000.0</td>\n",
       "      <td>4.0</td>\n",
       "      <td>2.0</td>\n",
       "      <td>0.08</td>\n",
       "      <td>Km 78 9 Carr # 135, Adjuntas, PR, 00601</td>\n",
       "      <td>Adjuntas</td>\n",
       "      <td>Puerto Rico</td>\n",
       "      <td>601.0</td>\n",
       "      <td>1527.0</td>\n",
       "    </tr>\n",
       "    <tr>\n",
       "      <th>2</th>\n",
       "      <td>67000.0</td>\n",
       "      <td>2.0</td>\n",
       "      <td>1.0</td>\n",
       "      <td>0.15</td>\n",
       "      <td>556G 556-G 16 St, Juana Diaz, PR, 00795</td>\n",
       "      <td>Juana Diaz</td>\n",
       "      <td>Puerto Rico</td>\n",
       "      <td>795.0</td>\n",
       "      <td>748.0</td>\n",
       "    </tr>\n",
       "    <tr>\n",
       "      <th>3</th>\n",
       "      <td>145000.0</td>\n",
       "      <td>4.0</td>\n",
       "      <td>2.0</td>\n",
       "      <td>0.10</td>\n",
       "      <td>R5 Comunidad El Paraso Calle De Oro R-5 Ponce,...</td>\n",
       "      <td>Ponce</td>\n",
       "      <td>Puerto Rico</td>\n",
       "      <td>731.0</td>\n",
       "      <td>1800.0</td>\n",
       "    </tr>\n",
       "    <tr>\n",
       "      <th>4</th>\n",
       "      <td>65000.0</td>\n",
       "      <td>6.0</td>\n",
       "      <td>2.0</td>\n",
       "      <td>0.05</td>\n",
       "      <td>14 Navarro, Mayaguez, PR, 00680</td>\n",
       "      <td>Mayaguez</td>\n",
       "      <td>Puerto Rico</td>\n",
       "      <td>680.0</td>\n",
       "      <td>NaN</td>\n",
       "    </tr>\n",
       "  </tbody>\n",
       "</table>\n",
       "</div>"
      ],
      "text/plain": [
       "      price  bed  bath  acre_lot  \\\n",
       "0  105000.0  3.0   2.0      0.12   \n",
       "1   80000.0  4.0   2.0      0.08   \n",
       "2   67000.0  2.0   1.0      0.15   \n",
       "3  145000.0  4.0   2.0      0.10   \n",
       "4   65000.0  6.0   2.0      0.05   \n",
       "\n",
       "                                        full_address        city        state  \\\n",
       "0  Sector Yahuecas Titulo # V84, Adjuntas, PR, 00601    Adjuntas  Puerto Rico   \n",
       "1            Km 78 9 Carr # 135, Adjuntas, PR, 00601    Adjuntas  Puerto Rico   \n",
       "2            556G 556-G 16 St, Juana Diaz, PR, 00795  Juana Diaz  Puerto Rico   \n",
       "3  R5 Comunidad El Paraso Calle De Oro R-5 Ponce,...       Ponce  Puerto Rico   \n",
       "4                    14 Navarro, Mayaguez, PR, 00680    Mayaguez  Puerto Rico   \n",
       "\n",
       "   zip_code  house_size  \n",
       "0     601.0       920.0  \n",
       "1     601.0      1527.0  \n",
       "2     795.0       748.0  \n",
       "3     731.0      1800.0  \n",
       "4     680.0         NaN  "
      ]
     },
     "execution_count": 7,
     "metadata": {},
     "output_type": "execute_result"
    }
   ],
   "source": [
    "# Drop status, street, and sold date columns\n",
    "real_estate_df = real_estate_df.drop([\"status\", \"street\", \"sold_date\"], axis=1)\n",
    "real_estate_df.head()"
   ]
  },
  {
   "cell_type": "code",
   "execution_count": 8,
   "id": "7902805c",
   "metadata": {},
   "outputs": [],
   "source": [
    "# Drop rows that are null for price, city, zip code\n",
    "# real_estate_df = real_estate_df.dropna(subset=['price', 'city', 'zip_code'])"
   ]
  },
  {
   "cell_type": "code",
   "execution_count": 9,
   "id": "b615f939",
   "metadata": {},
   "outputs": [],
   "source": [
    "# Find average for bed, bath, acre_lot, and house_size\n",
    "# real_estate_df.mean()"
   ]
  },
  {
   "cell_type": "code",
   "execution_count": 10,
   "id": "b65e76ce",
   "metadata": {},
   "outputs": [],
   "source": [
    "# Fill NAs with average for bed, bath, acre-lot, and house_size\n",
    "# real_estate_df.fillna(real_estate_df.mean())"
   ]
  },
  {
   "cell_type": "code",
   "execution_count": 11,
   "id": "c5631d28",
   "metadata": {},
   "outputs": [],
   "source": [
    "# Drop all NAs (instead of filling with mean as above)\n",
    "real_estate_df = real_estate_df.dropna()"
   ]
  },
  {
   "cell_type": "code",
   "execution_count": 12,
   "id": "c3783ff5",
   "metadata": {},
   "outputs": [
    {
     "data": {
      "text/html": [
       "<div>\n",
       "<style scoped>\n",
       "    .dataframe tbody tr th:only-of-type {\n",
       "        vertical-align: middle;\n",
       "    }\n",
       "\n",
       "    .dataframe tbody tr th {\n",
       "        vertical-align: top;\n",
       "    }\n",
       "\n",
       "    .dataframe thead th {\n",
       "        text-align: right;\n",
       "    }\n",
       "</style>\n",
       "<table border=\"1\" class=\"dataframe\">\n",
       "  <thead>\n",
       "    <tr style=\"text-align: right;\">\n",
       "      <th></th>\n",
       "      <th>price</th>\n",
       "      <th>bed</th>\n",
       "      <th>bath</th>\n",
       "      <th>acre_lot</th>\n",
       "      <th>full_address</th>\n",
       "      <th>city</th>\n",
       "      <th>state</th>\n",
       "      <th>zip_code</th>\n",
       "      <th>house_size</th>\n",
       "    </tr>\n",
       "  </thead>\n",
       "  <tbody>\n",
       "    <tr>\n",
       "      <th>0</th>\n",
       "      <td>105000.0</td>\n",
       "      <td>3.0</td>\n",
       "      <td>2.0</td>\n",
       "      <td>0.12</td>\n",
       "      <td>Sector Yahuecas Titulo # V84, Adjuntas, PR, 00601</td>\n",
       "      <td>Adjuntas</td>\n",
       "      <td>Puerto Rico</td>\n",
       "      <td>601.0</td>\n",
       "      <td>920.0</td>\n",
       "    </tr>\n",
       "    <tr>\n",
       "      <th>1</th>\n",
       "      <td>80000.0</td>\n",
       "      <td>4.0</td>\n",
       "      <td>2.0</td>\n",
       "      <td>0.08</td>\n",
       "      <td>Km 78 9 Carr # 135, Adjuntas, PR, 00601</td>\n",
       "      <td>Adjuntas</td>\n",
       "      <td>Puerto Rico</td>\n",
       "      <td>601.0</td>\n",
       "      <td>1527.0</td>\n",
       "    </tr>\n",
       "    <tr>\n",
       "      <th>2</th>\n",
       "      <td>67000.0</td>\n",
       "      <td>2.0</td>\n",
       "      <td>1.0</td>\n",
       "      <td>0.15</td>\n",
       "      <td>556G 556-G 16 St, Juana Diaz, PR, 00795</td>\n",
       "      <td>Juana Diaz</td>\n",
       "      <td>Puerto Rico</td>\n",
       "      <td>795.0</td>\n",
       "      <td>748.0</td>\n",
       "    </tr>\n",
       "    <tr>\n",
       "      <th>3</th>\n",
       "      <td>145000.0</td>\n",
       "      <td>4.0</td>\n",
       "      <td>2.0</td>\n",
       "      <td>0.10</td>\n",
       "      <td>R5 Comunidad El Paraso Calle De Oro R-5 Ponce,...</td>\n",
       "      <td>Ponce</td>\n",
       "      <td>Puerto Rico</td>\n",
       "      <td>731.0</td>\n",
       "      <td>1800.0</td>\n",
       "    </tr>\n",
       "    <tr>\n",
       "      <th>5</th>\n",
       "      <td>179000.0</td>\n",
       "      <td>4.0</td>\n",
       "      <td>3.0</td>\n",
       "      <td>0.46</td>\n",
       "      <td>Bo Calabazas San Sebastian, San Sebastian, PR,...</td>\n",
       "      <td>San Sebastian</td>\n",
       "      <td>Puerto Rico</td>\n",
       "      <td>612.0</td>\n",
       "      <td>2520.0</td>\n",
       "    </tr>\n",
       "  </tbody>\n",
       "</table>\n",
       "</div>"
      ],
      "text/plain": [
       "      price  bed  bath  acre_lot  \\\n",
       "0  105000.0  3.0   2.0      0.12   \n",
       "1   80000.0  4.0   2.0      0.08   \n",
       "2   67000.0  2.0   1.0      0.15   \n",
       "3  145000.0  4.0   2.0      0.10   \n",
       "5  179000.0  4.0   3.0      0.46   \n",
       "\n",
       "                                        full_address           city  \\\n",
       "0  Sector Yahuecas Titulo # V84, Adjuntas, PR, 00601       Adjuntas   \n",
       "1            Km 78 9 Carr # 135, Adjuntas, PR, 00601       Adjuntas   \n",
       "2            556G 556-G 16 St, Juana Diaz, PR, 00795     Juana Diaz   \n",
       "3  R5 Comunidad El Paraso Calle De Oro R-5 Ponce,...          Ponce   \n",
       "5  Bo Calabazas San Sebastian, San Sebastian, PR,...  San Sebastian   \n",
       "\n",
       "         state  zip_code  house_size  \n",
       "0  Puerto Rico     601.0       920.0  \n",
       "1  Puerto Rico     601.0      1527.0  \n",
       "2  Puerto Rico     795.0       748.0  \n",
       "3  Puerto Rico     731.0      1800.0  \n",
       "5  Puerto Rico     612.0      2520.0  "
      ]
     },
     "execution_count": 12,
     "metadata": {},
     "output_type": "execute_result"
    }
   ],
   "source": [
    "# Preview dataframe\n",
    "real_estate_df.head()"
   ]
  },
  {
   "cell_type": "code",
   "execution_count": 13,
   "id": "0fb90b99",
   "metadata": {},
   "outputs": [
    {
     "data": {
      "text/plain": [
       "421227"
      ]
     },
     "execution_count": 13,
     "metadata": {},
     "output_type": "execute_result"
    }
   ],
   "source": [
    "# Checking length after dropping NAs\n",
    "len(real_estate_df)"
   ]
  },
  {
   "cell_type": "code",
   "execution_count": 14,
   "id": "b7146ad3",
   "metadata": {},
   "outputs": [
    {
     "data": {
      "text/plain": [
       "array(['Puerto Rico', 'Virgin Islands', 'Massachusetts', 'Connecticut',\n",
       "       'New Jersey', 'New York', 'New Hampshire', 'Vermont',\n",
       "       'Rhode Island', 'Wyoming', 'Maine', 'Pennsylvania',\n",
       "       'West Virginia', 'Delaware'], dtype=object)"
      ]
     },
     "execution_count": 14,
     "metadata": {},
     "output_type": "execute_result"
    }
   ],
   "source": [
    "# Find unique values for the state column\n",
    "real_estate_df.state.unique()"
   ]
  },
  {
   "cell_type": "code",
   "execution_count": 15,
   "id": "a43f205d",
   "metadata": {},
   "outputs": [
    {
     "data": {
      "text/plain": [
       "array(['TX', 'AR', 'VT', 'CO', 'MN', 'ME', 'GA', 'AZ', 'RI', 'CA', 'TN',\n",
       "       'NE', 'NH', 'WI', 'CT', 'PA', 'LA', 'DE', 'FL', 'UT', 'NJ', 'NM',\n",
       "       'NC', 'KS', 'MA', 'SC', 'MI', 'NV', 'ID', 'KY', 'MD', 'OK', 'IA',\n",
       "       'NY', 'OH', 'WA', 'IL', 'OR', 'DC', 'MO', 'VA', 'AL', 'IN'],\n",
       "      dtype=object)"
      ]
     },
     "execution_count": 15,
     "metadata": {},
     "output_type": "execute_result"
    }
   ],
   "source": [
    "# Find unique values for the state column\n",
    "trader_joes_df.state.unique()"
   ]
  },
  {
   "cell_type": "code",
   "execution_count": 16,
   "id": "6e691a7e",
   "metadata": {},
   "outputs": [
    {
     "data": {
      "text/html": [
       "<div>\n",
       "<style scoped>\n",
       "    .dataframe tbody tr th:only-of-type {\n",
       "        vertical-align: middle;\n",
       "    }\n",
       "\n",
       "    .dataframe tbody tr th {\n",
       "        vertical-align: top;\n",
       "    }\n",
       "\n",
       "    .dataframe thead th {\n",
       "        text-align: right;\n",
       "    }\n",
       "</style>\n",
       "<table border=\"1\" class=\"dataframe\">\n",
       "  <thead>\n",
       "    <tr style=\"text-align: right;\">\n",
       "      <th></th>\n",
       "      <th>price</th>\n",
       "      <th>bed</th>\n",
       "      <th>bath</th>\n",
       "      <th>acre_lot</th>\n",
       "      <th>full_address</th>\n",
       "      <th>city</th>\n",
       "      <th>state</th>\n",
       "      <th>zip_code</th>\n",
       "      <th>house_size</th>\n",
       "    </tr>\n",
       "  </thead>\n",
       "  <tbody>\n",
       "    <tr>\n",
       "      <th>24231</th>\n",
       "      <td>180000.0</td>\n",
       "      <td>2.0</td>\n",
       "      <td>1.0</td>\n",
       "      <td>0.34</td>\n",
       "      <td>23 Moore St, Agawam, MA, 01001</td>\n",
       "      <td>Agawam</td>\n",
       "      <td>Massachusetts</td>\n",
       "      <td>1001.0</td>\n",
       "      <td>676.0</td>\n",
       "    </tr>\n",
       "    <tr>\n",
       "      <th>24236</th>\n",
       "      <td>239900.0</td>\n",
       "      <td>3.0</td>\n",
       "      <td>1.0</td>\n",
       "      <td>0.46</td>\n",
       "      <td>270 South St, Agawam, MA, 01001</td>\n",
       "      <td>Agawam</td>\n",
       "      <td>Massachusetts</td>\n",
       "      <td>1001.0</td>\n",
       "      <td>1196.0</td>\n",
       "    </tr>\n",
       "    <tr>\n",
       "      <th>24237</th>\n",
       "      <td>525000.0</td>\n",
       "      <td>3.0</td>\n",
       "      <td>3.0</td>\n",
       "      <td>0.45</td>\n",
       "      <td>955 River Rd, Agawam, MA, 01001</td>\n",
       "      <td>Agawam</td>\n",
       "      <td>Massachusetts</td>\n",
       "      <td>1001.0</td>\n",
       "      <td>2314.0</td>\n",
       "    </tr>\n",
       "    <tr>\n",
       "      <th>24238</th>\n",
       "      <td>289900.0</td>\n",
       "      <td>3.0</td>\n",
       "      <td>2.0</td>\n",
       "      <td>0.36</td>\n",
       "      <td>82 Harvey Johnson Dr, Agawam, MA, 01001</td>\n",
       "      <td>Agawam</td>\n",
       "      <td>Massachusetts</td>\n",
       "      <td>1001.0</td>\n",
       "      <td>1276.0</td>\n",
       "    </tr>\n",
       "    <tr>\n",
       "      <th>24241</th>\n",
       "      <td>275000.0</td>\n",
       "      <td>4.0</td>\n",
       "      <td>2.0</td>\n",
       "      <td>0.11</td>\n",
       "      <td>6-8 King Ave, Agawam, MA, 01001</td>\n",
       "      <td>Agawam</td>\n",
       "      <td>Massachusetts</td>\n",
       "      <td>1001.0</td>\n",
       "      <td>1732.0</td>\n",
       "    </tr>\n",
       "  </tbody>\n",
       "</table>\n",
       "</div>"
      ],
      "text/plain": [
       "          price  bed  bath  acre_lot                             full_address  \\\n",
       "24231  180000.0  2.0   1.0      0.34           23 Moore St, Agawam, MA, 01001   \n",
       "24236  239900.0  3.0   1.0      0.46          270 South St, Agawam, MA, 01001   \n",
       "24237  525000.0  3.0   3.0      0.45          955 River Rd, Agawam, MA, 01001   \n",
       "24238  289900.0  3.0   2.0      0.36  82 Harvey Johnson Dr, Agawam, MA, 01001   \n",
       "24241  275000.0  4.0   2.0      0.11          6-8 King Ave, Agawam, MA, 01001   \n",
       "\n",
       "         city          state  zip_code  house_size  \n",
       "24231  Agawam  Massachusetts    1001.0       676.0  \n",
       "24236  Agawam  Massachusetts    1001.0      1196.0  \n",
       "24237  Agawam  Massachusetts    1001.0      2314.0  \n",
       "24238  Agawam  Massachusetts    1001.0      1276.0  \n",
       "24241  Agawam  Massachusetts    1001.0      1732.0  "
      ]
     },
     "execution_count": 16,
     "metadata": {},
     "output_type": "execute_result"
    }
   ],
   "source": [
    "# Dropping states with real estate sales that do not have a TJs\n",
    "real_estate_df = real_estate_df[real_estate_df.state != \"Puerto Rico\"]\n",
    "real_estate_df = real_estate_df[real_estate_df.state != \"Virgin Islands\"]\n",
    "real_estate_df = real_estate_df[real_estate_df.state != \"Wyoming\"]\n",
    "real_estate_df = real_estate_df[real_estate_df.state != \"West Virginia\"]\n",
    "real_estate_df = real_estate_df[real_estate_df.state != \"Delaware\"]\n",
    "real_estate_df.head()"
   ]
  },
  {
   "cell_type": "code",
   "execution_count": 17,
   "id": "3f9125f7",
   "metadata": {},
   "outputs": [
    {
     "data": {
      "text/plain": [
       "403782"
      ]
     },
     "execution_count": 17,
     "metadata": {},
     "output_type": "execute_result"
    }
   ],
   "source": [
    "# Checking length after dropping NAs\n",
    "len(real_estate_df)"
   ]
  },
  {
   "cell_type": "code",
   "execution_count": 18,
   "id": "fe4580aa",
   "metadata": {},
   "outputs": [
    {
     "data": {
      "text/plain": [
       "Massachusetts    103770\n",
       "New Jersey        73571\n",
       "Connecticut       68033\n",
       "New York          51270\n",
       "Rhode Island      24620\n",
       "New Hampshire     24454\n",
       "Maine             23010\n",
       "Vermont           22205\n",
       "Pennsylvania      12849\n",
       "Name: state, dtype: int64"
      ]
     },
     "execution_count": 18,
     "metadata": {},
     "output_type": "execute_result"
    }
   ],
   "source": [
    "# Finding the number of house sales per state\n",
    "real_estate_df['state'].value_counts()"
   ]
  },
  {
   "cell_type": "code",
   "execution_count": 19,
   "id": "f939493d",
   "metadata": {},
   "outputs": [],
   "source": [
    "# Dropping states with TJs that do not have real estate sales\n",
    "# SHOULD WE DO THIS? "
   ]
  },
  {
   "cell_type": "code",
   "execution_count": null,
   "id": "152c8fab",
   "metadata": {},
   "outputs": [],
   "source": []
  }
 ],
 "metadata": {
  "kernelspec": {
   "display_name": "Python 3 (ipykernel)",
   "language": "python",
   "name": "python3"
  },
  "language_info": {
   "codemirror_mode": {
    "name": "ipython",
    "version": 3
   },
   "file_extension": ".py",
   "mimetype": "text/x-python",
   "name": "python",
   "nbconvert_exporter": "python",
   "pygments_lexer": "ipython3",
   "version": "3.7.13"
  }
 },
 "nbformat": 4,
 "nbformat_minor": 5
}
