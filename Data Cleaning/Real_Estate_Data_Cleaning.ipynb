{
 "cells": [
  {
   "cell_type": "markdown",
   "id": "aa5d8928",
   "metadata": {},
   "source": [
    "### Input Dependencies & Load Data"
   ]
  },
  {
   "cell_type": "code",
   "execution_count": 1,
   "id": "850dd296",
   "metadata": {},
   "outputs": [],
   "source": [
    "# Import dependencies\n",
    "import pandas as pd\n",
    "import numpy as np\n",
    "import plotly.express as px\n",
    "import matplotlib.pyplot as plt\n",
    "import seaborn as sns"
   ]
  },
  {
   "cell_type": "code",
   "execution_count": 2,
   "id": "bbcd7396",
   "metadata": {},
   "outputs": [
    {
     "data": {
      "text/html": [
       "<div>\n",
       "<style scoped>\n",
       "    .dataframe tbody tr th:only-of-type {\n",
       "        vertical-align: middle;\n",
       "    }\n",
       "\n",
       "    .dataframe tbody tr th {\n",
       "        vertical-align: top;\n",
       "    }\n",
       "\n",
       "    .dataframe thead th {\n",
       "        text-align: right;\n",
       "    }\n",
       "</style>\n",
       "<table border=\"1\" class=\"dataframe\">\n",
       "  <thead>\n",
       "    <tr style=\"text-align: right;\">\n",
       "      <th></th>\n",
       "      <th>status</th>\n",
       "      <th>price</th>\n",
       "      <th>bed</th>\n",
       "      <th>bath</th>\n",
       "      <th>acre_lot</th>\n",
       "      <th>full_address</th>\n",
       "      <th>street</th>\n",
       "      <th>city</th>\n",
       "      <th>state</th>\n",
       "      <th>zip_code</th>\n",
       "      <th>house_size</th>\n",
       "      <th>sold_date</th>\n",
       "    </tr>\n",
       "  </thead>\n",
       "  <tbody>\n",
       "    <tr>\n",
       "      <th>0</th>\n",
       "      <td>for_sale</td>\n",
       "      <td>105000.0</td>\n",
       "      <td>3.0</td>\n",
       "      <td>2.0</td>\n",
       "      <td>0.12</td>\n",
       "      <td>Sector Yahuecas Titulo # V84, Adjuntas, PR, 00601</td>\n",
       "      <td>Sector Yahuecas Titulo # V84</td>\n",
       "      <td>Adjuntas</td>\n",
       "      <td>Puerto Rico</td>\n",
       "      <td>601.0</td>\n",
       "      <td>920.0</td>\n",
       "      <td>NaN</td>\n",
       "    </tr>\n",
       "    <tr>\n",
       "      <th>1</th>\n",
       "      <td>for_sale</td>\n",
       "      <td>80000.0</td>\n",
       "      <td>4.0</td>\n",
       "      <td>2.0</td>\n",
       "      <td>0.08</td>\n",
       "      <td>Km 78 9 Carr # 135, Adjuntas, PR, 00601</td>\n",
       "      <td>Km 78 9 Carr # 135</td>\n",
       "      <td>Adjuntas</td>\n",
       "      <td>Puerto Rico</td>\n",
       "      <td>601.0</td>\n",
       "      <td>1527.0</td>\n",
       "      <td>NaN</td>\n",
       "    </tr>\n",
       "    <tr>\n",
       "      <th>2</th>\n",
       "      <td>for_sale</td>\n",
       "      <td>67000.0</td>\n",
       "      <td>2.0</td>\n",
       "      <td>1.0</td>\n",
       "      <td>0.15</td>\n",
       "      <td>556G 556-G 16 St, Juana Diaz, PR, 00795</td>\n",
       "      <td>556G 556-G 16 St</td>\n",
       "      <td>Juana Diaz</td>\n",
       "      <td>Puerto Rico</td>\n",
       "      <td>795.0</td>\n",
       "      <td>748.0</td>\n",
       "      <td>NaN</td>\n",
       "    </tr>\n",
       "    <tr>\n",
       "      <th>3</th>\n",
       "      <td>for_sale</td>\n",
       "      <td>145000.0</td>\n",
       "      <td>4.0</td>\n",
       "      <td>2.0</td>\n",
       "      <td>0.10</td>\n",
       "      <td>R5 Comunidad El Paraso Calle De Oro R-5 Ponce,...</td>\n",
       "      <td>R5 Comunidad El Paraso Calle De Oro R-5 Ponce</td>\n",
       "      <td>Ponce</td>\n",
       "      <td>Puerto Rico</td>\n",
       "      <td>731.0</td>\n",
       "      <td>1800.0</td>\n",
       "      <td>NaN</td>\n",
       "    </tr>\n",
       "    <tr>\n",
       "      <th>4</th>\n",
       "      <td>for_sale</td>\n",
       "      <td>65000.0</td>\n",
       "      <td>6.0</td>\n",
       "      <td>2.0</td>\n",
       "      <td>0.05</td>\n",
       "      <td>14 Navarro, Mayaguez, PR, 00680</td>\n",
       "      <td>14 Navarro</td>\n",
       "      <td>Mayaguez</td>\n",
       "      <td>Puerto Rico</td>\n",
       "      <td>680.0</td>\n",
       "      <td>NaN</td>\n",
       "      <td>NaN</td>\n",
       "    </tr>\n",
       "  </tbody>\n",
       "</table>\n",
       "</div>"
      ],
      "text/plain": [
       "     status     price  bed  bath  acre_lot  \\\n",
       "0  for_sale  105000.0  3.0   2.0      0.12   \n",
       "1  for_sale   80000.0  4.0   2.0      0.08   \n",
       "2  for_sale   67000.0  2.0   1.0      0.15   \n",
       "3  for_sale  145000.0  4.0   2.0      0.10   \n",
       "4  for_sale   65000.0  6.0   2.0      0.05   \n",
       "\n",
       "                                        full_address  \\\n",
       "0  Sector Yahuecas Titulo # V84, Adjuntas, PR, 00601   \n",
       "1            Km 78 9 Carr # 135, Adjuntas, PR, 00601   \n",
       "2            556G 556-G 16 St, Juana Diaz, PR, 00795   \n",
       "3  R5 Comunidad El Paraso Calle De Oro R-5 Ponce,...   \n",
       "4                    14 Navarro, Mayaguez, PR, 00680   \n",
       "\n",
       "                                          street        city        state  \\\n",
       "0                   Sector Yahuecas Titulo # V84    Adjuntas  Puerto Rico   \n",
       "1                             Km 78 9 Carr # 135    Adjuntas  Puerto Rico   \n",
       "2                               556G 556-G 16 St  Juana Diaz  Puerto Rico   \n",
       "3  R5 Comunidad El Paraso Calle De Oro R-5 Ponce       Ponce  Puerto Rico   \n",
       "4                                     14 Navarro    Mayaguez  Puerto Rico   \n",
       "\n",
       "   zip_code  house_size sold_date  \n",
       "0     601.0       920.0       NaN  \n",
       "1     601.0      1527.0       NaN  \n",
       "2     795.0       748.0       NaN  \n",
       "3     731.0      1800.0       NaN  \n",
       "4     680.0         NaN       NaN  "
      ]
     },
     "execution_count": 2,
     "metadata": {},
     "output_type": "execute_result"
    }
   ],
   "source": [
    "# Create real estate dataframe\n",
    "real_estate_df=pd.read_csv(\"../Resources/Real_Estate_Data.zip\")\n",
    "real_estate_df.head()"
   ]
  },
  {
   "cell_type": "code",
   "execution_count": 3,
   "id": "2b74b06b",
   "metadata": {},
   "outputs": [
    {
     "data": {
      "text/html": [
       "<div>\n",
       "<style scoped>\n",
       "    .dataframe tbody tr th:only-of-type {\n",
       "        vertical-align: middle;\n",
       "    }\n",
       "\n",
       "    .dataframe tbody tr th {\n",
       "        vertical-align: top;\n",
       "    }\n",
       "\n",
       "    .dataframe thead th {\n",
       "        text-align: right;\n",
       "    }\n",
       "</style>\n",
       "<table border=\"1\" class=\"dataframe\">\n",
       "  <thead>\n",
       "    <tr style=\"text-align: right;\">\n",
       "      <th></th>\n",
       "      <th>name</th>\n",
       "      <th>latitude</th>\n",
       "      <th>longitude</th>\n",
       "      <th>street</th>\n",
       "      <th>city</th>\n",
       "      <th>state</th>\n",
       "      <th>zip</th>\n",
       "      <th>phone</th>\n",
       "      <th>website</th>\n",
       "    </tr>\n",
       "  </thead>\n",
       "  <tbody>\n",
       "    <tr>\n",
       "      <th>0</th>\n",
       "      <td>Trader Joe's Houston - Alabama Theater (426)</td>\n",
       "      <td>29.739211</td>\n",
       "      <td>-95.411323</td>\n",
       "      <td>2922 S Shepherd Drive</td>\n",
       "      <td>Houston</td>\n",
       "      <td>TX</td>\n",
       "      <td>77098</td>\n",
       "      <td>713-526-4034</td>\n",
       "      <td>https://locations.traderjoes.com/tx/houston/426/</td>\n",
       "    </tr>\n",
       "    <tr>\n",
       "      <th>1</th>\n",
       "      <td>Trader Joe's Houston - West (431)</td>\n",
       "      <td>29.735406</td>\n",
       "      <td>-95.582487</td>\n",
       "      <td>11683 Westheimer Rd</td>\n",
       "      <td>Houston</td>\n",
       "      <td>TX</td>\n",
       "      <td>77077</td>\n",
       "      <td>281-496-2488</td>\n",
       "      <td>https://locations.traderjoes.com/tx/houston/431/</td>\n",
       "    </tr>\n",
       "    <tr>\n",
       "      <th>2</th>\n",
       "      <td>Trader Joe's Houston - S Voss Rd (427)</td>\n",
       "      <td>29.752713</td>\n",
       "      <td>-95.501667</td>\n",
       "      <td>1440 South Voss Road</td>\n",
       "      <td>Houston</td>\n",
       "      <td>TX</td>\n",
       "      <td>77057</td>\n",
       "      <td>713-266-2377</td>\n",
       "      <td>https://locations.traderjoes.com/tx/houston/427/</td>\n",
       "    </tr>\n",
       "    <tr>\n",
       "      <th>3</th>\n",
       "      <td>Trader Joe's McKinney (408)</td>\n",
       "      <td>33.173697</td>\n",
       "      <td>-96.642874</td>\n",
       "      <td>2851 Craig Dr Ste 100</td>\n",
       "      <td>McKinney</td>\n",
       "      <td>TX</td>\n",
       "      <td>75070</td>\n",
       "      <td>214-491-1893</td>\n",
       "      <td>https://locations.traderjoes.com/tx/mckinney/408/</td>\n",
       "    </tr>\n",
       "    <tr>\n",
       "      <th>4</th>\n",
       "      <td>Trader Joe's Dallas Far North (407)</td>\n",
       "      <td>32.950870</td>\n",
       "      <td>-96.802823</td>\n",
       "      <td>14856 Preston Rd</td>\n",
       "      <td>Dallas</td>\n",
       "      <td>TX</td>\n",
       "      <td>75254</td>\n",
       "      <td>972-239-3901</td>\n",
       "      <td>https://locations.traderjoes.com/tx/dallas/407/</td>\n",
       "    </tr>\n",
       "  </tbody>\n",
       "</table>\n",
       "</div>"
      ],
      "text/plain": [
       "                                           name   latitude  longitude  \\\n",
       "0  Trader Joe's Houston - Alabama Theater (426)  29.739211 -95.411323   \n",
       "1             Trader Joe's Houston - West (431)  29.735406 -95.582487   \n",
       "2        Trader Joe's Houston - S Voss Rd (427)  29.752713 -95.501667   \n",
       "3                   Trader Joe's McKinney (408)  33.173697 -96.642874   \n",
       "4           Trader Joe's Dallas Far North (407)  32.950870 -96.802823   \n",
       "\n",
       "                  street      city state    zip         phone  \\\n",
       "0  2922 S Shepherd Drive   Houston    TX  77098  713-526-4034   \n",
       "1    11683 Westheimer Rd   Houston    TX  77077  281-496-2488   \n",
       "2   1440 South Voss Road   Houston    TX  77057  713-266-2377   \n",
       "3  2851 Craig Dr Ste 100  McKinney    TX  75070  214-491-1893   \n",
       "4       14856 Preston Rd    Dallas    TX  75254  972-239-3901   \n",
       "\n",
       "                                             website  \n",
       "0   https://locations.traderjoes.com/tx/houston/426/  \n",
       "1   https://locations.traderjoes.com/tx/houston/431/  \n",
       "2   https://locations.traderjoes.com/tx/houston/427/  \n",
       "3  https://locations.traderjoes.com/tx/mckinney/408/  \n",
       "4    https://locations.traderjoes.com/tx/dallas/407/  "
      ]
     },
     "execution_count": 3,
     "metadata": {},
     "output_type": "execute_result"
    }
   ],
   "source": [
    "# Create Trader Joe's dataframe\n",
    "trader_joes_df=pd.read_csv(\"../Resources/Trader_Joes_Stores.zip\")\n",
    "trader_joes_df.head()"
   ]
  },
  {
   "cell_type": "code",
   "execution_count": 4,
   "id": "fb9e100d",
   "metadata": {},
   "outputs": [
    {
     "data": {
      "text/html": [
       "<div>\n",
       "<style scoped>\n",
       "    .dataframe tbody tr th:only-of-type {\n",
       "        vertical-align: middle;\n",
       "    }\n",
       "\n",
       "    .dataframe tbody tr th {\n",
       "        vertical-align: top;\n",
       "    }\n",
       "\n",
       "    .dataframe thead th {\n",
       "        text-align: right;\n",
       "    }\n",
       "</style>\n",
       "<table border=\"1\" class=\"dataframe\">\n",
       "  <thead>\n",
       "    <tr style=\"text-align: right;\">\n",
       "      <th></th>\n",
       "      <th>name</th>\n",
       "      <th>url</th>\n",
       "      <th>street_address</th>\n",
       "      <th>city</th>\n",
       "      <th>state</th>\n",
       "      <th>zip_code</th>\n",
       "      <th>country</th>\n",
       "      <th>phone_number_1</th>\n",
       "      <th>phone_number_2</th>\n",
       "      <th>fax_1</th>\n",
       "      <th>...</th>\n",
       "      <th>email_2</th>\n",
       "      <th>website</th>\n",
       "      <th>open_hours</th>\n",
       "      <th>latitude</th>\n",
       "      <th>longitude</th>\n",
       "      <th>facebook</th>\n",
       "      <th>twitter</th>\n",
       "      <th>instagram</th>\n",
       "      <th>pinterest</th>\n",
       "      <th>youtube</th>\n",
       "    </tr>\n",
       "  </thead>\n",
       "  <tbody>\n",
       "    <tr>\n",
       "      <th>0</th>\n",
       "      <td>Conway Supercenter</td>\n",
       "      <td>https://www.walmart.com/store/5/conway-ar/details</td>\n",
       "      <td>1155 Hwy 65 North</td>\n",
       "      <td>Conway</td>\n",
       "      <td>AR</td>\n",
       "      <td>72032</td>\n",
       "      <td>US</td>\n",
       "      <td>501-329-0023</td>\n",
       "      <td>NaN</td>\n",
       "      <td>NaN</td>\n",
       "      <td>...</td>\n",
       "      <td>NaN</td>\n",
       "      <td>NaN</td>\n",
       "      <td>monday - friday : 00:00-24:00, saturday : 00:0...</td>\n",
       "      <td>35.108660</td>\n",
       "      <td>-92.436905</td>\n",
       "      <td>NaN</td>\n",
       "      <td>NaN</td>\n",
       "      <td>NaN</td>\n",
       "      <td>NaN</td>\n",
       "      <td>NaN</td>\n",
       "    </tr>\n",
       "    <tr>\n",
       "      <th>1</th>\n",
       "      <td>Sikeston Supercenter</td>\n",
       "      <td>https://www.walmart.com/store/9/sikeston-mo/de...</td>\n",
       "      <td>1303 S Main St</td>\n",
       "      <td>Sikeston</td>\n",
       "      <td>MO</td>\n",
       "      <td>63801</td>\n",
       "      <td>US</td>\n",
       "      <td>573-472-3020</td>\n",
       "      <td>NaN</td>\n",
       "      <td>NaN</td>\n",
       "      <td>...</td>\n",
       "      <td>NaN</td>\n",
       "      <td>NaN</td>\n",
       "      <td>monday - friday : 00:00-24:00, saturday : 00:0...</td>\n",
       "      <td>36.857394</td>\n",
       "      <td>-89.586051</td>\n",
       "      <td>NaN</td>\n",
       "      <td>NaN</td>\n",
       "      <td>NaN</td>\n",
       "      <td>NaN</td>\n",
       "      <td>NaN</td>\n",
       "    </tr>\n",
       "    <tr>\n",
       "      <th>2</th>\n",
       "      <td>Tahlequah Supercenter</td>\n",
       "      <td>https://www.walmart.com/store/10/tahlequah-ok/...</td>\n",
       "      <td>2020 S Muskogee Ave</td>\n",
       "      <td>Tahlequah</td>\n",
       "      <td>OK</td>\n",
       "      <td>74464</td>\n",
       "      <td>US</td>\n",
       "      <td>918-456-8804</td>\n",
       "      <td>NaN</td>\n",
       "      <td>NaN</td>\n",
       "      <td>...</td>\n",
       "      <td>NaN</td>\n",
       "      <td>NaN</td>\n",
       "      <td>monday - friday : 00:00-24:00, saturday : 00:0...</td>\n",
       "      <td>35.888765</td>\n",
       "      <td>-94.979859</td>\n",
       "      <td>NaN</td>\n",
       "      <td>NaN</td>\n",
       "      <td>NaN</td>\n",
       "      <td>NaN</td>\n",
       "      <td>NaN</td>\n",
       "    </tr>\n",
       "    <tr>\n",
       "      <th>3</th>\n",
       "      <td>Mountain Home Supercenter</td>\n",
       "      <td>https://www.walmart.com/store/11/mountain-home...</td>\n",
       "      <td>65 Wal Mart Dr</td>\n",
       "      <td>Mountain Home</td>\n",
       "      <td>AR</td>\n",
       "      <td>72653</td>\n",
       "      <td>US</td>\n",
       "      <td>870-492-9299</td>\n",
       "      <td>NaN</td>\n",
       "      <td>NaN</td>\n",
       "      <td>...</td>\n",
       "      <td>NaN</td>\n",
       "      <td>NaN</td>\n",
       "      <td>monday - friday : 00:00-24:00, saturday : 00:0...</td>\n",
       "      <td>36.354957</td>\n",
       "      <td>-92.341026</td>\n",
       "      <td>NaN</td>\n",
       "      <td>NaN</td>\n",
       "      <td>NaN</td>\n",
       "      <td>NaN</td>\n",
       "      <td>NaN</td>\n",
       "    </tr>\n",
       "    <tr>\n",
       "      <th>4</th>\n",
       "      <td>Claremore Supercenter</td>\n",
       "      <td>https://www.walmart.com/store/12/claremore-ok/...</td>\n",
       "      <td>1500 S Lynn Riggs Blvd</td>\n",
       "      <td>Claremore</td>\n",
       "      <td>OK</td>\n",
       "      <td>74017</td>\n",
       "      <td>US</td>\n",
       "      <td>918-341-2765</td>\n",
       "      <td>NaN</td>\n",
       "      <td>NaN</td>\n",
       "      <td>...</td>\n",
       "      <td>NaN</td>\n",
       "      <td>NaN</td>\n",
       "      <td>monday - friday : 00:00-24:00, saturday : 00:0...</td>\n",
       "      <td>36.293955</td>\n",
       "      <td>-95.627125</td>\n",
       "      <td>NaN</td>\n",
       "      <td>NaN</td>\n",
       "      <td>NaN</td>\n",
       "      <td>NaN</td>\n",
       "      <td>NaN</td>\n",
       "    </tr>\n",
       "  </tbody>\n",
       "</table>\n",
       "<p>5 rows × 22 columns</p>\n",
       "</div>"
      ],
      "text/plain": [
       "                        name  \\\n",
       "0         Conway Supercenter   \n",
       "1       Sikeston Supercenter   \n",
       "2      Tahlequah Supercenter   \n",
       "3  Mountain Home Supercenter   \n",
       "4      Claremore Supercenter   \n",
       "\n",
       "                                                 url          street_address  \\\n",
       "0  https://www.walmart.com/store/5/conway-ar/details       1155 Hwy 65 North   \n",
       "1  https://www.walmart.com/store/9/sikeston-mo/de...          1303 S Main St   \n",
       "2  https://www.walmart.com/store/10/tahlequah-ok/...     2020 S Muskogee Ave   \n",
       "3  https://www.walmart.com/store/11/mountain-home...          65 Wal Mart Dr   \n",
       "4  https://www.walmart.com/store/12/claremore-ok/...  1500 S Lynn Riggs Blvd   \n",
       "\n",
       "            city state  zip_code country phone_number_1  phone_number_2  \\\n",
       "0         Conway    AR     72032      US   501-329-0023             NaN   \n",
       "1       Sikeston    MO     63801      US   573-472-3020             NaN   \n",
       "2      Tahlequah    OK     74464      US   918-456-8804             NaN   \n",
       "3  Mountain Home    AR     72653      US   870-492-9299             NaN   \n",
       "4      Claremore    OK     74017      US   918-341-2765             NaN   \n",
       "\n",
       "   fax_1  ...  email_2  website  \\\n",
       "0    NaN  ...      NaN      NaN   \n",
       "1    NaN  ...      NaN      NaN   \n",
       "2    NaN  ...      NaN      NaN   \n",
       "3    NaN  ...      NaN      NaN   \n",
       "4    NaN  ...      NaN      NaN   \n",
       "\n",
       "                                          open_hours   latitude  longitude  \\\n",
       "0  monday - friday : 00:00-24:00, saturday : 00:0...  35.108660 -92.436905   \n",
       "1  monday - friday : 00:00-24:00, saturday : 00:0...  36.857394 -89.586051   \n",
       "2  monday - friday : 00:00-24:00, saturday : 00:0...  35.888765 -94.979859   \n",
       "3  monday - friday : 00:00-24:00, saturday : 00:0...  36.354957 -92.341026   \n",
       "4  monday - friday : 00:00-24:00, saturday : 00:0...  36.293955 -95.627125   \n",
       "\n",
       "   facebook  twitter  instagram  pinterest  youtube  \n",
       "0       NaN      NaN        NaN        NaN      NaN  \n",
       "1       NaN      NaN        NaN        NaN      NaN  \n",
       "2       NaN      NaN        NaN        NaN      NaN  \n",
       "3       NaN      NaN        NaN        NaN      NaN  \n",
       "4       NaN      NaN        NaN        NaN      NaN  \n",
       "\n",
       "[5 rows x 22 columns]"
      ]
     },
     "execution_count": 4,
     "metadata": {},
     "output_type": "execute_result"
    }
   ],
   "source": [
    "# Create Walmart dataframe\n",
    "walmart_df=pd.read_csv(\"../Resources/Walmart_Stores.zip\")\n",
    "walmart_df.head()"
   ]
  },
  {
   "cell_type": "markdown",
   "id": "36ec0940",
   "metadata": {},
   "source": [
    "### Clean Real_Estate_Data.csv"
   ]
  },
  {
   "cell_type": "code",
   "execution_count": 5,
   "id": "75cb3c02",
   "metadata": {},
   "outputs": [
    {
     "data": {
      "text/plain": [
       "923159"
      ]
     },
     "execution_count": 5,
     "metadata": {},
     "output_type": "execute_result"
    }
   ],
   "source": [
    "# Find the length of the real estate df\n",
    "len(real_estate_df)"
   ]
  },
  {
   "cell_type": "code",
   "execution_count": 6,
   "id": "97d4a921",
   "metadata": {},
   "outputs": [
    {
     "data": {
      "text/plain": [
       "status               0\n",
       "price               71\n",
       "bed             131703\n",
       "bath            115192\n",
       "acre_lot        273623\n",
       "full_address         0\n",
       "street            2138\n",
       "city                74\n",
       "state                0\n",
       "zip_code           205\n",
       "house_size      297843\n",
       "sold_date       466763\n",
       "dtype: int64"
      ]
     },
     "execution_count": 6,
     "metadata": {},
     "output_type": "execute_result"
    }
   ],
   "source": [
    "# Find the number of null values in each column\n",
    "real_estate_df.isnull().sum()"
   ]
  },
  {
   "cell_type": "code",
   "execution_count": 7,
   "id": "74f1111b",
   "metadata": {},
   "outputs": [
    {
     "data": {
      "text/plain": [
       "array(['for_sale', 'ready_to_build'], dtype=object)"
      ]
     },
     "execution_count": 7,
     "metadata": {},
     "output_type": "execute_result"
    }
   ],
   "source": [
    "# Find unique values for status column\n",
    "real_estate_df.status.unique()"
   ]
  },
  {
   "cell_type": "code",
   "execution_count": 8,
   "id": "5a1a2fa9",
   "metadata": {},
   "outputs": [
    {
     "data": {
      "text/html": [
       "<div>\n",
       "<style scoped>\n",
       "    .dataframe tbody tr th:only-of-type {\n",
       "        vertical-align: middle;\n",
       "    }\n",
       "\n",
       "    .dataframe tbody tr th {\n",
       "        vertical-align: top;\n",
       "    }\n",
       "\n",
       "    .dataframe thead th {\n",
       "        text-align: right;\n",
       "    }\n",
       "</style>\n",
       "<table border=\"1\" class=\"dataframe\">\n",
       "  <thead>\n",
       "    <tr style=\"text-align: right;\">\n",
       "      <th></th>\n",
       "      <th>price</th>\n",
       "      <th>bed</th>\n",
       "      <th>bath</th>\n",
       "      <th>acre_lot</th>\n",
       "      <th>full_address</th>\n",
       "      <th>city</th>\n",
       "      <th>state</th>\n",
       "      <th>zip_code</th>\n",
       "      <th>house_size</th>\n",
       "    </tr>\n",
       "  </thead>\n",
       "  <tbody>\n",
       "    <tr>\n",
       "      <th>0</th>\n",
       "      <td>105000.0</td>\n",
       "      <td>3.0</td>\n",
       "      <td>2.0</td>\n",
       "      <td>0.12</td>\n",
       "      <td>Sector Yahuecas Titulo # V84, Adjuntas, PR, 00601</td>\n",
       "      <td>Adjuntas</td>\n",
       "      <td>Puerto Rico</td>\n",
       "      <td>601.0</td>\n",
       "      <td>920.0</td>\n",
       "    </tr>\n",
       "    <tr>\n",
       "      <th>1</th>\n",
       "      <td>80000.0</td>\n",
       "      <td>4.0</td>\n",
       "      <td>2.0</td>\n",
       "      <td>0.08</td>\n",
       "      <td>Km 78 9 Carr # 135, Adjuntas, PR, 00601</td>\n",
       "      <td>Adjuntas</td>\n",
       "      <td>Puerto Rico</td>\n",
       "      <td>601.0</td>\n",
       "      <td>1527.0</td>\n",
       "    </tr>\n",
       "    <tr>\n",
       "      <th>2</th>\n",
       "      <td>67000.0</td>\n",
       "      <td>2.0</td>\n",
       "      <td>1.0</td>\n",
       "      <td>0.15</td>\n",
       "      <td>556G 556-G 16 St, Juana Diaz, PR, 00795</td>\n",
       "      <td>Juana Diaz</td>\n",
       "      <td>Puerto Rico</td>\n",
       "      <td>795.0</td>\n",
       "      <td>748.0</td>\n",
       "    </tr>\n",
       "    <tr>\n",
       "      <th>3</th>\n",
       "      <td>145000.0</td>\n",
       "      <td>4.0</td>\n",
       "      <td>2.0</td>\n",
       "      <td>0.10</td>\n",
       "      <td>R5 Comunidad El Paraso Calle De Oro R-5 Ponce,...</td>\n",
       "      <td>Ponce</td>\n",
       "      <td>Puerto Rico</td>\n",
       "      <td>731.0</td>\n",
       "      <td>1800.0</td>\n",
       "    </tr>\n",
       "    <tr>\n",
       "      <th>4</th>\n",
       "      <td>65000.0</td>\n",
       "      <td>6.0</td>\n",
       "      <td>2.0</td>\n",
       "      <td>0.05</td>\n",
       "      <td>14 Navarro, Mayaguez, PR, 00680</td>\n",
       "      <td>Mayaguez</td>\n",
       "      <td>Puerto Rico</td>\n",
       "      <td>680.0</td>\n",
       "      <td>NaN</td>\n",
       "    </tr>\n",
       "  </tbody>\n",
       "</table>\n",
       "</div>"
      ],
      "text/plain": [
       "      price  bed  bath  acre_lot  \\\n",
       "0  105000.0  3.0   2.0      0.12   \n",
       "1   80000.0  4.0   2.0      0.08   \n",
       "2   67000.0  2.0   1.0      0.15   \n",
       "3  145000.0  4.0   2.0      0.10   \n",
       "4   65000.0  6.0   2.0      0.05   \n",
       "\n",
       "                                        full_address        city        state  \\\n",
       "0  Sector Yahuecas Titulo # V84, Adjuntas, PR, 00601    Adjuntas  Puerto Rico   \n",
       "1            Km 78 9 Carr # 135, Adjuntas, PR, 00601    Adjuntas  Puerto Rico   \n",
       "2            556G 556-G 16 St, Juana Diaz, PR, 00795  Juana Diaz  Puerto Rico   \n",
       "3  R5 Comunidad El Paraso Calle De Oro R-5 Ponce,...       Ponce  Puerto Rico   \n",
       "4                    14 Navarro, Mayaguez, PR, 00680    Mayaguez  Puerto Rico   \n",
       "\n",
       "   zip_code  house_size  \n",
       "0     601.0       920.0  \n",
       "1     601.0      1527.0  \n",
       "2     795.0       748.0  \n",
       "3     731.0      1800.0  \n",
       "4     680.0         NaN  "
      ]
     },
     "execution_count": 8,
     "metadata": {},
     "output_type": "execute_result"
    }
   ],
   "source": [
    "# Drop status, street, and sold date columns\n",
    "real_estate_df = real_estate_df.drop([\"status\", \"street\", \"sold_date\"], axis=1)\n",
    "real_estate_df.head()"
   ]
  },
  {
   "cell_type": "code",
   "execution_count": 9,
   "id": "030592e0",
   "metadata": {},
   "outputs": [],
   "source": [
    "# Fill NAs for acre_lot with 0\n",
    "real_estate_df['acre_lot'] = real_estate_df['acre_lot'].fillna(0)"
   ]
  },
  {
   "cell_type": "code",
   "execution_count": 10,
   "id": "2bedf715",
   "metadata": {},
   "outputs": [],
   "source": [
    "# Drop all remaining NAs\n",
    "real_estate_df = real_estate_df.dropna()"
   ]
  },
  {
   "cell_type": "code",
   "execution_count": 11,
   "id": "567d5620",
   "metadata": {},
   "outputs": [
    {
     "data": {
      "text/html": [
       "<div>\n",
       "<style scoped>\n",
       "    .dataframe tbody tr th:only-of-type {\n",
       "        vertical-align: middle;\n",
       "    }\n",
       "\n",
       "    .dataframe tbody tr th {\n",
       "        vertical-align: top;\n",
       "    }\n",
       "\n",
       "    .dataframe thead th {\n",
       "        text-align: right;\n",
       "    }\n",
       "</style>\n",
       "<table border=\"1\" class=\"dataframe\">\n",
       "  <thead>\n",
       "    <tr style=\"text-align: right;\">\n",
       "      <th></th>\n",
       "      <th>price</th>\n",
       "      <th>bed</th>\n",
       "      <th>bath</th>\n",
       "      <th>acre_lot</th>\n",
       "      <th>full_address</th>\n",
       "      <th>city</th>\n",
       "      <th>state</th>\n",
       "      <th>zip_code</th>\n",
       "      <th>house_size</th>\n",
       "    </tr>\n",
       "  </thead>\n",
       "  <tbody>\n",
       "    <tr>\n",
       "      <th>0</th>\n",
       "      <td>105000.0</td>\n",
       "      <td>3.0</td>\n",
       "      <td>2.0</td>\n",
       "      <td>0.12</td>\n",
       "      <td>Sector Yahuecas Titulo # V84, Adjuntas, PR, 00601</td>\n",
       "      <td>Adjuntas</td>\n",
       "      <td>Puerto Rico</td>\n",
       "      <td>601.0</td>\n",
       "      <td>920.0</td>\n",
       "    </tr>\n",
       "    <tr>\n",
       "      <th>1</th>\n",
       "      <td>80000.0</td>\n",
       "      <td>4.0</td>\n",
       "      <td>2.0</td>\n",
       "      <td>0.08</td>\n",
       "      <td>Km 78 9 Carr # 135, Adjuntas, PR, 00601</td>\n",
       "      <td>Adjuntas</td>\n",
       "      <td>Puerto Rico</td>\n",
       "      <td>601.0</td>\n",
       "      <td>1527.0</td>\n",
       "    </tr>\n",
       "    <tr>\n",
       "      <th>2</th>\n",
       "      <td>67000.0</td>\n",
       "      <td>2.0</td>\n",
       "      <td>1.0</td>\n",
       "      <td>0.15</td>\n",
       "      <td>556G 556-G 16 St, Juana Diaz, PR, 00795</td>\n",
       "      <td>Juana Diaz</td>\n",
       "      <td>Puerto Rico</td>\n",
       "      <td>795.0</td>\n",
       "      <td>748.0</td>\n",
       "    </tr>\n",
       "    <tr>\n",
       "      <th>3</th>\n",
       "      <td>145000.0</td>\n",
       "      <td>4.0</td>\n",
       "      <td>2.0</td>\n",
       "      <td>0.10</td>\n",
       "      <td>R5 Comunidad El Paraso Calle De Oro R-5 Ponce,...</td>\n",
       "      <td>Ponce</td>\n",
       "      <td>Puerto Rico</td>\n",
       "      <td>731.0</td>\n",
       "      <td>1800.0</td>\n",
       "    </tr>\n",
       "    <tr>\n",
       "      <th>5</th>\n",
       "      <td>179000.0</td>\n",
       "      <td>4.0</td>\n",
       "      <td>3.0</td>\n",
       "      <td>0.46</td>\n",
       "      <td>Bo Calabazas San Sebastian, San Sebastian, PR,...</td>\n",
       "      <td>San Sebastian</td>\n",
       "      <td>Puerto Rico</td>\n",
       "      <td>612.0</td>\n",
       "      <td>2520.0</td>\n",
       "    </tr>\n",
       "  </tbody>\n",
       "</table>\n",
       "</div>"
      ],
      "text/plain": [
       "      price  bed  bath  acre_lot  \\\n",
       "0  105000.0  3.0   2.0      0.12   \n",
       "1   80000.0  4.0   2.0      0.08   \n",
       "2   67000.0  2.0   1.0      0.15   \n",
       "3  145000.0  4.0   2.0      0.10   \n",
       "5  179000.0  4.0   3.0      0.46   \n",
       "\n",
       "                                        full_address           city  \\\n",
       "0  Sector Yahuecas Titulo # V84, Adjuntas, PR, 00601       Adjuntas   \n",
       "1            Km 78 9 Carr # 135, Adjuntas, PR, 00601       Adjuntas   \n",
       "2            556G 556-G 16 St, Juana Diaz, PR, 00795     Juana Diaz   \n",
       "3  R5 Comunidad El Paraso Calle De Oro R-5 Ponce,...          Ponce   \n",
       "5  Bo Calabazas San Sebastian, San Sebastian, PR,...  San Sebastian   \n",
       "\n",
       "         state  zip_code  house_size  \n",
       "0  Puerto Rico     601.0       920.0  \n",
       "1  Puerto Rico     601.0      1527.0  \n",
       "2  Puerto Rico     795.0       748.0  \n",
       "3  Puerto Rico     731.0      1800.0  \n",
       "5  Puerto Rico     612.0      2520.0  "
      ]
     },
     "execution_count": 11,
     "metadata": {},
     "output_type": "execute_result"
    }
   ],
   "source": [
    "# Preview dataframe\n",
    "real_estate_df.head()"
   ]
  },
  {
   "cell_type": "code",
   "execution_count": 12,
   "id": "b6684fda",
   "metadata": {},
   "outputs": [
    {
     "data": {
      "text/plain": [
       "601901"
      ]
     },
     "execution_count": 12,
     "metadata": {},
     "output_type": "execute_result"
    }
   ],
   "source": [
    "# Checking length after dropping NAs\n",
    "len(real_estate_df)"
   ]
  },
  {
   "cell_type": "code",
   "execution_count": 13,
   "id": "6ec1e2a0",
   "metadata": {},
   "outputs": [
    {
     "data": {
      "text/plain": [
       "array(['Puerto Rico', 'Virgin Islands', 'Massachusetts', 'Connecticut',\n",
       "       'New Jersey', 'New York', 'New Hampshire', 'Vermont',\n",
       "       'Rhode Island', 'Wyoming', 'Maine', 'Georgia', 'Pennsylvania',\n",
       "       'West Virginia', 'Delaware'], dtype=object)"
      ]
     },
     "execution_count": 13,
     "metadata": {},
     "output_type": "execute_result"
    }
   ],
   "source": [
    "# Find unique values for the state column\n",
    "real_estate_df.state.unique()"
   ]
  },
  {
   "cell_type": "code",
   "execution_count": 14,
   "id": "29b1bf85",
   "metadata": {},
   "outputs": [
    {
     "data": {
      "text/html": [
       "<div>\n",
       "<style scoped>\n",
       "    .dataframe tbody tr th:only-of-type {\n",
       "        vertical-align: middle;\n",
       "    }\n",
       "\n",
       "    .dataframe tbody tr th {\n",
       "        vertical-align: top;\n",
       "    }\n",
       "\n",
       "    .dataframe thead th {\n",
       "        text-align: right;\n",
       "    }\n",
       "</style>\n",
       "<table border=\"1\" class=\"dataframe\">\n",
       "  <thead>\n",
       "    <tr style=\"text-align: right;\">\n",
       "      <th></th>\n",
       "      <th>price</th>\n",
       "      <th>bed</th>\n",
       "      <th>bath</th>\n",
       "      <th>acre_lot</th>\n",
       "      <th>full_address</th>\n",
       "      <th>city</th>\n",
       "      <th>state</th>\n",
       "      <th>zip_code</th>\n",
       "      <th>house_size</th>\n",
       "    </tr>\n",
       "  </thead>\n",
       "  <tbody>\n",
       "    <tr>\n",
       "      <th>24231</th>\n",
       "      <td>180000.0</td>\n",
       "      <td>2.0</td>\n",
       "      <td>1.0</td>\n",
       "      <td>0.34</td>\n",
       "      <td>23 Moore St, Agawam, MA, 01001</td>\n",
       "      <td>Agawam</td>\n",
       "      <td>Massachusetts</td>\n",
       "      <td>1001.0</td>\n",
       "      <td>676.0</td>\n",
       "    </tr>\n",
       "    <tr>\n",
       "      <th>24233</th>\n",
       "      <td>169900.0</td>\n",
       "      <td>2.0</td>\n",
       "      <td>2.0</td>\n",
       "      <td>0.00</td>\n",
       "      <td>420 Main St Apt 42, Agawam, MA, 01001</td>\n",
       "      <td>Agawam</td>\n",
       "      <td>Massachusetts</td>\n",
       "      <td>1001.0</td>\n",
       "      <td>892.0</td>\n",
       "    </tr>\n",
       "    <tr>\n",
       "      <th>24234</th>\n",
       "      <td>242000.0</td>\n",
       "      <td>2.0</td>\n",
       "      <td>2.0</td>\n",
       "      <td>0.00</td>\n",
       "      <td>2A Mansion Woods Dr Unit 2A, Agawam, MA, 01001</td>\n",
       "      <td>Agawam</td>\n",
       "      <td>Massachusetts</td>\n",
       "      <td>1001.0</td>\n",
       "      <td>1428.0</td>\n",
       "    </tr>\n",
       "    <tr>\n",
       "      <th>24235</th>\n",
       "      <td>299950.0</td>\n",
       "      <td>2.0</td>\n",
       "      <td>2.0</td>\n",
       "      <td>0.00</td>\n",
       "      <td>19 Castle Hill Rd Unit C, Agawam, MA, 01001</td>\n",
       "      <td>Agawam</td>\n",
       "      <td>Massachusetts</td>\n",
       "      <td>1001.0</td>\n",
       "      <td>1659.0</td>\n",
       "    </tr>\n",
       "    <tr>\n",
       "      <th>24236</th>\n",
       "      <td>239900.0</td>\n",
       "      <td>3.0</td>\n",
       "      <td>1.0</td>\n",
       "      <td>0.46</td>\n",
       "      <td>270 South St, Agawam, MA, 01001</td>\n",
       "      <td>Agawam</td>\n",
       "      <td>Massachusetts</td>\n",
       "      <td>1001.0</td>\n",
       "      <td>1196.0</td>\n",
       "    </tr>\n",
       "  </tbody>\n",
       "</table>\n",
       "</div>"
      ],
      "text/plain": [
       "          price  bed  bath  acre_lot  \\\n",
       "24231  180000.0  2.0   1.0      0.34   \n",
       "24233  169900.0  2.0   2.0      0.00   \n",
       "24234  242000.0  2.0   2.0      0.00   \n",
       "24235  299950.0  2.0   2.0      0.00   \n",
       "24236  239900.0  3.0   1.0      0.46   \n",
       "\n",
       "                                         full_address    city          state  \\\n",
       "24231                  23 Moore St, Agawam, MA, 01001  Agawam  Massachusetts   \n",
       "24233           420 Main St Apt 42, Agawam, MA, 01001  Agawam  Massachusetts   \n",
       "24234  2A Mansion Woods Dr Unit 2A, Agawam, MA, 01001  Agawam  Massachusetts   \n",
       "24235     19 Castle Hill Rd Unit C, Agawam, MA, 01001  Agawam  Massachusetts   \n",
       "24236                 270 South St, Agawam, MA, 01001  Agawam  Massachusetts   \n",
       "\n",
       "       zip_code  house_size  \n",
       "24231    1001.0       676.0  \n",
       "24233    1001.0       892.0  \n",
       "24234    1001.0      1428.0  \n",
       "24235    1001.0      1659.0  \n",
       "24236    1001.0      1196.0  "
      ]
     },
     "execution_count": 14,
     "metadata": {},
     "output_type": "execute_result"
    }
   ],
   "source": [
    "# Dropping states with real estate sales that do not have a TJs\n",
    "\n",
    "real_estate_df = real_estate_df[real_estate_df.state != \"Puerto Rico\"]\n",
    "real_estate_df = real_estate_df[real_estate_df.state != \"Virgin Islands\"]\n",
    "real_estate_df = real_estate_df[real_estate_df.state != \"Wyoming\"]\n",
    "real_estate_df = real_estate_df[real_estate_df.state != \"West Virginia\"]\n",
    "real_estate_df = real_estate_df[real_estate_df.state != \"Georgia\"]\n",
    "real_estate_df.head()"
   ]
  },
  {
   "cell_type": "code",
   "execution_count": 15,
   "id": "a6cc2096",
   "metadata": {},
   "outputs": [
    {
     "data": {
      "text/plain": [
       "price           float64\n",
       "bed             float64\n",
       "bath            float64\n",
       "acre_lot        float64\n",
       "full_address     object\n",
       "city             object\n",
       "state            object\n",
       "zip_code        float64\n",
       "house_size      float64\n",
       "dtype: object"
      ]
     },
     "execution_count": 15,
     "metadata": {},
     "output_type": "execute_result"
    }
   ],
   "source": [
    "# Checking datatypes specifically for zip code\n",
    "real_estate_df.dtypes"
   ]
  },
  {
   "cell_type": "code",
   "execution_count": 16,
   "id": "1d2c663b",
   "metadata": {},
   "outputs": [
    {
     "data": {
      "text/html": [
       "<div>\n",
       "<style scoped>\n",
       "    .dataframe tbody tr th:only-of-type {\n",
       "        vertical-align: middle;\n",
       "    }\n",
       "\n",
       "    .dataframe tbody tr th {\n",
       "        vertical-align: top;\n",
       "    }\n",
       "\n",
       "    .dataframe thead th {\n",
       "        text-align: right;\n",
       "    }\n",
       "</style>\n",
       "<table border=\"1\" class=\"dataframe\">\n",
       "  <thead>\n",
       "    <tr style=\"text-align: right;\">\n",
       "      <th></th>\n",
       "      <th>price</th>\n",
       "      <th>bed</th>\n",
       "      <th>bath</th>\n",
       "      <th>acre_lot</th>\n",
       "      <th>full_address</th>\n",
       "      <th>city</th>\n",
       "      <th>state</th>\n",
       "      <th>zip_code</th>\n",
       "      <th>house_size</th>\n",
       "    </tr>\n",
       "  </thead>\n",
       "  <tbody>\n",
       "    <tr>\n",
       "      <th>24231</th>\n",
       "      <td>180000.0</td>\n",
       "      <td>2.0</td>\n",
       "      <td>1.0</td>\n",
       "      <td>0.34</td>\n",
       "      <td>23 Moore St, Agawam, MA, 01001</td>\n",
       "      <td>Agawam</td>\n",
       "      <td>Massachusetts</td>\n",
       "      <td>01001</td>\n",
       "      <td>676.0</td>\n",
       "    </tr>\n",
       "    <tr>\n",
       "      <th>24233</th>\n",
       "      <td>169900.0</td>\n",
       "      <td>2.0</td>\n",
       "      <td>2.0</td>\n",
       "      <td>0.00</td>\n",
       "      <td>420 Main St Apt 42, Agawam, MA, 01001</td>\n",
       "      <td>Agawam</td>\n",
       "      <td>Massachusetts</td>\n",
       "      <td>01001</td>\n",
       "      <td>892.0</td>\n",
       "    </tr>\n",
       "    <tr>\n",
       "      <th>24234</th>\n",
       "      <td>242000.0</td>\n",
       "      <td>2.0</td>\n",
       "      <td>2.0</td>\n",
       "      <td>0.00</td>\n",
       "      <td>2A Mansion Woods Dr Unit 2A, Agawam, MA, 01001</td>\n",
       "      <td>Agawam</td>\n",
       "      <td>Massachusetts</td>\n",
       "      <td>01001</td>\n",
       "      <td>1428.0</td>\n",
       "    </tr>\n",
       "    <tr>\n",
       "      <th>24235</th>\n",
       "      <td>299950.0</td>\n",
       "      <td>2.0</td>\n",
       "      <td>2.0</td>\n",
       "      <td>0.00</td>\n",
       "      <td>19 Castle Hill Rd Unit C, Agawam, MA, 01001</td>\n",
       "      <td>Agawam</td>\n",
       "      <td>Massachusetts</td>\n",
       "      <td>01001</td>\n",
       "      <td>1659.0</td>\n",
       "    </tr>\n",
       "    <tr>\n",
       "      <th>24236</th>\n",
       "      <td>239900.0</td>\n",
       "      <td>3.0</td>\n",
       "      <td>1.0</td>\n",
       "      <td>0.46</td>\n",
       "      <td>270 South St, Agawam, MA, 01001</td>\n",
       "      <td>Agawam</td>\n",
       "      <td>Massachusetts</td>\n",
       "      <td>01001</td>\n",
       "      <td>1196.0</td>\n",
       "    </tr>\n",
       "    <tr>\n",
       "      <th>...</th>\n",
       "      <td>...</td>\n",
       "      <td>...</td>\n",
       "      <td>...</td>\n",
       "      <td>...</td>\n",
       "      <td>...</td>\n",
       "      <td>...</td>\n",
       "      <td>...</td>\n",
       "      <td>...</td>\n",
       "      <td>...</td>\n",
       "    </tr>\n",
       "    <tr>\n",
       "      <th>923153</th>\n",
       "      <td>825000.0</td>\n",
       "      <td>5.0</td>\n",
       "      <td>5.0</td>\n",
       "      <td>1.60</td>\n",
       "      <td>100 Pleasant Hill Rd, New Windsor, NY, 12553</td>\n",
       "      <td>New Windsor</td>\n",
       "      <td>New York</td>\n",
       "      <td>12553</td>\n",
       "      <td>4522.0</td>\n",
       "    </tr>\n",
       "    <tr>\n",
       "      <th>923154</th>\n",
       "      <td>445000.0</td>\n",
       "      <td>1.0</td>\n",
       "      <td>2.0</td>\n",
       "      <td>0.99</td>\n",
       "      <td>1008 King St, Chappaqua, NY, 10514</td>\n",
       "      <td>Chappaqua</td>\n",
       "      <td>New York</td>\n",
       "      <td>10514</td>\n",
       "      <td>1052.0</td>\n",
       "    </tr>\n",
       "    <tr>\n",
       "      <th>923155</th>\n",
       "      <td>418000.0</td>\n",
       "      <td>4.0</td>\n",
       "      <td>2.0</td>\n",
       "      <td>0.40</td>\n",
       "      <td>3 Elmwood Dr, Monroe, NY, 10950</td>\n",
       "      <td>Monroe</td>\n",
       "      <td>New York</td>\n",
       "      <td>10950</td>\n",
       "      <td>1650.0</td>\n",
       "    </tr>\n",
       "    <tr>\n",
       "      <th>923156</th>\n",
       "      <td>469000.0</td>\n",
       "      <td>4.0</td>\n",
       "      <td>2.0</td>\n",
       "      <td>0.18</td>\n",
       "      <td>13 N Conger Ave, Congers, NY, 10920</td>\n",
       "      <td>Congers</td>\n",
       "      <td>New York</td>\n",
       "      <td>10920</td>\n",
       "      <td>2123.0</td>\n",
       "    </tr>\n",
       "    <tr>\n",
       "      <th>923157</th>\n",
       "      <td>825000.0</td>\n",
       "      <td>5.0</td>\n",
       "      <td>5.0</td>\n",
       "      <td>0.79</td>\n",
       "      <td>7 Miller Rd, Valley Cottage, NY, 10989</td>\n",
       "      <td>Valley Cottage</td>\n",
       "      <td>New York</td>\n",
       "      <td>10989</td>\n",
       "      <td>3775.0</td>\n",
       "    </tr>\n",
       "  </tbody>\n",
       "</table>\n",
       "<p>580478 rows × 9 columns</p>\n",
       "</div>"
      ],
      "text/plain": [
       "           price  bed  bath  acre_lot  \\\n",
       "24231   180000.0  2.0   1.0      0.34   \n",
       "24233   169900.0  2.0   2.0      0.00   \n",
       "24234   242000.0  2.0   2.0      0.00   \n",
       "24235   299950.0  2.0   2.0      0.00   \n",
       "24236   239900.0  3.0   1.0      0.46   \n",
       "...          ...  ...   ...       ...   \n",
       "923153  825000.0  5.0   5.0      1.60   \n",
       "923154  445000.0  1.0   2.0      0.99   \n",
       "923155  418000.0  4.0   2.0      0.40   \n",
       "923156  469000.0  4.0   2.0      0.18   \n",
       "923157  825000.0  5.0   5.0      0.79   \n",
       "\n",
       "                                          full_address            city  \\\n",
       "24231                   23 Moore St, Agawam, MA, 01001          Agawam   \n",
       "24233            420 Main St Apt 42, Agawam, MA, 01001          Agawam   \n",
       "24234   2A Mansion Woods Dr Unit 2A, Agawam, MA, 01001          Agawam   \n",
       "24235      19 Castle Hill Rd Unit C, Agawam, MA, 01001          Agawam   \n",
       "24236                  270 South St, Agawam, MA, 01001          Agawam   \n",
       "...                                                ...             ...   \n",
       "923153    100 Pleasant Hill Rd, New Windsor, NY, 12553     New Windsor   \n",
       "923154              1008 King St, Chappaqua, NY, 10514       Chappaqua   \n",
       "923155                 3 Elmwood Dr, Monroe, NY, 10950          Monroe   \n",
       "923156             13 N Conger Ave, Congers, NY, 10920         Congers   \n",
       "923157          7 Miller Rd, Valley Cottage, NY, 10989  Valley Cottage   \n",
       "\n",
       "                state zip_code  house_size  \n",
       "24231   Massachusetts    01001       676.0  \n",
       "24233   Massachusetts    01001       892.0  \n",
       "24234   Massachusetts    01001      1428.0  \n",
       "24235   Massachusetts    01001      1659.0  \n",
       "24236   Massachusetts    01001      1196.0  \n",
       "...               ...      ...         ...  \n",
       "923153       New York    12553      4522.0  \n",
       "923154       New York    10514      1052.0  \n",
       "923155       New York    10950      1650.0  \n",
       "923156       New York    10920      2123.0  \n",
       "923157       New York    10989      3775.0  \n",
       "\n",
       "[580478 rows x 9 columns]"
      ]
     },
     "execution_count": 16,
     "metadata": {},
     "output_type": "execute_result"
    }
   ],
   "source": [
    "# Convert zip_code to 5 digits \n",
    "real_estate_df['zip_code'] = real_estate_df['zip_code'].astype(int).astype(str).str.zfill(5)\n",
    "real_estate_df"
   ]
  },
  {
   "cell_type": "code",
   "execution_count": 31,
   "id": "9d8522a4",
   "metadata": {},
   "outputs": [
    {
     "data": {
      "text/plain": [
       "zip_code\n",
       "11201       3557\n",
       "02118       3421\n",
       "02127       3059\n",
       "10022       2678\n",
       "10011       2652\n",
       "            ... \n",
       "19374          1\n",
       "19380          1\n",
       "12762          1\n",
       "12770          1\n",
       "12855          1\n",
       "Length: 2876, dtype: int64"
      ]
     },
     "execution_count": 31,
     "metadata": {},
     "output_type": "execute_result"
    }
   ],
   "source": [
    "# Pull out Zip codes for HTML Drop Down\n",
    "zip_dropdown=real_estate_df[[\"zip_code\"]].value_counts()\n",
    "zip_dropdown"
   ]
  },
  {
   "cell_type": "code",
   "execution_count": 32,
   "id": "e75e6ea3",
   "metadata": {},
   "outputs": [],
   "source": [
    "# Send zips to csv.\n",
    "zip_dropdown.to_csv(\"../Resources/zip_dropdown.csv\",)"
   ]
  },
  {
   "cell_type": "code",
   "execution_count": 35,
   "id": "6e474895",
   "metadata": {},
   "outputs": [
    {
     "data": {
      "text/html": [
       "<div>\n",
       "<style scoped>\n",
       "    .dataframe tbody tr th:only-of-type {\n",
       "        vertical-align: middle;\n",
       "    }\n",
       "\n",
       "    .dataframe tbody tr th {\n",
       "        vertical-align: top;\n",
       "    }\n",
       "\n",
       "    .dataframe thead th {\n",
       "        text-align: right;\n",
       "    }\n",
       "</style>\n",
       "<table border=\"1\" class=\"dataframe\">\n",
       "  <thead>\n",
       "    <tr style=\"text-align: right;\">\n",
       "      <th></th>\n",
       "      <th>price</th>\n",
       "      <th>bed</th>\n",
       "      <th>bath</th>\n",
       "      <th>acre_lot</th>\n",
       "      <th>full_address</th>\n",
       "      <th>city</th>\n",
       "      <th>state</th>\n",
       "      <th>zip_code</th>\n",
       "      <th>house_size</th>\n",
       "    </tr>\n",
       "  </thead>\n",
       "  <tbody>\n",
       "  </tbody>\n",
       "</table>\n",
       "</div>"
      ],
      "text/plain": [
       "Empty DataFrame\n",
       "Columns: [price, bed, bath, acre_lot, full_address, city, state, zip_code, house_size]\n",
       "Index: []"
      ]
     },
     "execution_count": 35,
     "metadata": {},
     "output_type": "execute_result"
    }
   ],
   "source": [
    "real_estate_df[real_estate_df.zip_code==\"0604\"]"
   ]
  },
  {
   "cell_type": "code",
   "execution_count": null,
   "id": "d2a9d82f",
   "metadata": {},
   "outputs": [],
   "source": [
    "# Checking length after dropping NAs\n",
    "len(real_estate_df)"
   ]
  },
  {
   "cell_type": "code",
   "execution_count": null,
   "id": "30347f41",
   "metadata": {},
   "outputs": [],
   "source": [
    "# Find the number of entries per state\n",
    "real_estate_df['state'].value_counts()"
   ]
  },
  {
   "cell_type": "markdown",
   "id": "bf399aac",
   "metadata": {},
   "source": [
    "### Clean Trader_Joes_Stores.csv"
   ]
  },
  {
   "cell_type": "code",
   "execution_count": null,
   "id": "4a786663",
   "metadata": {},
   "outputs": [],
   "source": [
    "# Drop phone and website columns\n",
    "trader_joes_df = trader_joes_df.drop([\"phone\", \"website\"], axis=1)\n",
    "trader_joes_df.head()"
   ]
  },
  {
   "cell_type": "code",
   "execution_count": null,
   "id": "d975499b",
   "metadata": {},
   "outputs": [],
   "source": [
    "# Convert zip_code to 5 digits \n",
    "trader_joes_df['zip'] = trader_joes_df['zip'].astype(int).astype(str).str.zfill(5)\n",
    "trader_joes_df.head()"
   ]
  },
  {
   "cell_type": "code",
   "execution_count": null,
   "id": "6a007dfa",
   "metadata": {},
   "outputs": [],
   "source": [
    "# Find unique values for the state column\n",
    "trader_joes_df.state.unique()"
   ]
  },
  {
   "cell_type": "code",
   "execution_count": null,
   "id": "e5435202",
   "metadata": {},
   "outputs": [],
   "source": [
    "# Dropping states with TJs that do not have real estate sales\n",
    "\n",
    "trader_joes_states = ['VT', 'ME', 'RI', 'NH', 'CT', 'PA', 'DE', 'NJ', 'MA', 'NY']\n",
    "new_trader_joes_list=[]\n",
    "for x in trader_joes_states:\n",
    "    state_df=trader_joes_df[trader_joes_df.state == x]\n",
    "    new_trader_joes_list.append(state_df)\n",
    "# state_df\n",
    "new_trader_joes_list\n",
    "\n",
    "new_trader_joes_df=pd.concat(new_trader_joes_list)\n",
    "new_trader_joes_df"
   ]
  },
  {
   "cell_type": "code",
   "execution_count": null,
   "id": "59e33bd1",
   "metadata": {},
   "outputs": [],
   "source": [
    "#Testing that we got what we needed\n",
    "ma=new_trader_joes_df[new_trader_joes_df['state']=='PA']\n",
    "ma"
   ]
  },
  {
   "cell_type": "markdown",
   "id": "d160d81d",
   "metadata": {},
   "source": [
    "### Clean Walmart_Stores.csv"
   ]
  },
  {
   "cell_type": "code",
   "execution_count": null,
   "id": "7878c6c5",
   "metadata": {},
   "outputs": [],
   "source": [
    "# Drop unnecessary columns\n",
    "walmart_df = walmart_df.drop([\"url\", \"phone_number_1\", \"phone_number_2\", \"fax_1\", \"fax_2\", \"email_1\", \"email_2\", \"website\", \"open_hours\", \"facebook\", \"twitter\", \"instagram\", \"pinterest\", \"youtube\"], axis=1)\n",
    "walmart_df.head()"
   ]
  },
  {
   "cell_type": "code",
   "execution_count": null,
   "id": "9ea3e746",
   "metadata": {},
   "outputs": [],
   "source": [
    "# Convert zip_code to 5 digits \n",
    "walmart_df['zip_code'] = walmart_df['zip_code'].astype(int).astype(str).str.zfill(5)\n",
    "walmart_df.head()"
   ]
  },
  {
   "cell_type": "code",
   "execution_count": null,
   "id": "18aafd94",
   "metadata": {
    "scrolled": true
   },
   "outputs": [],
   "source": [
    "# Dropping states with Walmarts that do not have real estate sales\n",
    "\n",
    "walmart_states = ['VT', 'ME', 'RI', 'NH', 'CT', 'PA', 'DE', 'NJ', 'MA', 'NY']\n",
    "new_walmart_list=[]\n",
    "for x in walmart_states:\n",
    "    walmart_state_df=walmart_df[walmart_df.state == x]\n",
    "    new_walmart_list.append(walmart_state_df)\n",
    "\n",
    "new_walmart_df=pd.concat(new_walmart_list)\n",
    "new_walmart_df"
   ]
  },
  {
   "cell_type": "markdown",
   "id": "318dafba",
   "metadata": {},
   "source": [
    "### Find Zip Code Matches for Trader Joe's & Walmart"
   ]
  },
  {
   "cell_type": "code",
   "execution_count": null,
   "id": "d3b13839",
   "metadata": {
    "scrolled": false
   },
   "outputs": [],
   "source": [
    "# Identify the number of TJs in a given zip code \n",
    "\n",
    "# Create df for TJs store count\n",
    "TJs_store_count=pd.DataFrame(new_trader_joes_df.zip.value_counts())\n",
    "TJs_store_count.reset_index(inplace=True)\n",
    "TJs_store_count=TJs_store_count.rename(columns={\"index\":\"zip_code\",\"zip\":\"TJs_store_count\"})\n",
    "\n",
    "TJs_real_estate_df = pd.merge(real_estate_df, TJs_store_count,how=\"outer\", left_on='zip_code', right_on='zip_code')\n",
    "TJs_real_estate_df"
   ]
  },
  {
   "cell_type": "code",
   "execution_count": null,
   "id": "757b02ec",
   "metadata": {},
   "outputs": [],
   "source": [
    "# Fill TJs_store_count NaNs with 0\n",
    "TJs_real_estate_df['TJs_store_count'] = TJs_real_estate_df['TJs_store_count'].fillna(0)"
   ]
  },
  {
   "cell_type": "code",
   "execution_count": null,
   "id": "6a67c4f8",
   "metadata": {},
   "outputs": [],
   "source": [
    "# Drop NaNs in TJs_real_estate_df\n",
    "TJs_real_estate_df = TJs_real_estate_df.dropna()"
   ]
  },
  {
   "cell_type": "code",
   "execution_count": null,
   "id": "30fb1d95",
   "metadata": {},
   "outputs": [],
   "source": [
    "# Ensuring above code is functional\n",
    "TJs_real_estate_df.sample(15)"
   ]
  },
  {
   "cell_type": "code",
   "execution_count": null,
   "id": "e77b2d74",
   "metadata": {},
   "outputs": [],
   "source": [
    "# Testing a zip code known to have TJs to make sure code works\n",
    "TJs_real_estate_df[TJs_real_estate_df.zip_code=='01035']"
   ]
  },
  {
   "cell_type": "code",
   "execution_count": null,
   "id": "9dd683c7",
   "metadata": {},
   "outputs": [],
   "source": [
    "# Identify the number of Walmarts in a given zip code \n",
    "\n",
    "# Create df for walmart store count\n",
    "walmart_store_count=pd.DataFrame(new_walmart_df.zip_code.value_counts())\n",
    "walmart_store_count.reset_index(inplace=True)\n",
    "walmart_store_count=walmart_store_count.rename(columns={\"index\":\"zip_code\",\"zip_code\":\"walmart_store_count\"})\n",
    "\n",
    "# Merge Walmart store count with real estate dataframe\n",
    "new_real_estate_df = pd.merge(TJs_real_estate_df, walmart_store_count,how=\"outer\", left_on='zip_code', right_on='zip_code')\n",
    "new_real_estate_df"
   ]
  },
  {
   "cell_type": "code",
   "execution_count": null,
   "id": "917cea34",
   "metadata": {},
   "outputs": [],
   "source": [
    "# Fill walmart_store_count NaNs with 0\n",
    "new_real_estate_df['walmart_store_count'] = new_real_estate_df['walmart_store_count'].fillna(0)"
   ]
  },
  {
   "cell_type": "code",
   "execution_count": null,
   "id": "081d11e6",
   "metadata": {},
   "outputs": [],
   "source": [
    "# Drop NaNs in new_real_estate_df\n",
    "new_real_estate_df = new_real_estate_df.dropna()"
   ]
  },
  {
   "cell_type": "code",
   "execution_count": null,
   "id": "89be4243",
   "metadata": {},
   "outputs": [],
   "source": [
    "# Ensuring above code is functional\n",
    "new_real_estate_df.sample(15)"
   ]
  },
  {
   "cell_type": "markdown",
   "id": "175c1d28",
   "metadata": {},
   "source": [
    "### Inspect Real_Estate_Data.csv Data"
   ]
  },
  {
   "cell_type": "code",
   "execution_count": null,
   "id": "f2195701",
   "metadata": {},
   "outputs": [],
   "source": [
    "# Investigating correlation between variables\n",
    "new_real_estate_df.corr()"
   ]
  },
  {
   "cell_type": "code",
   "execution_count": null,
   "id": "86ddb100",
   "metadata": {},
   "outputs": [],
   "source": [
    "# Investigating distribution\n",
    "new_real_estate_df.describe()"
   ]
  },
  {
   "cell_type": "code",
   "execution_count": null,
   "id": "80d6bd70",
   "metadata": {},
   "outputs": [],
   "source": [
    "# Creating histogram of prices\n",
    "fig = px.histogram(new_real_estate_df, x='price')\n",
    "fig.show()"
   ]
  },
  {
   "cell_type": "code",
   "execution_count": null,
   "id": "f2d1e78a",
   "metadata": {},
   "outputs": [],
   "source": [
    "# Creating a box plot of prices\n",
    "fig = px.box(new_real_estate_df, y='price')\n",
    "fig.show()"
   ]
  },
  {
   "cell_type": "code",
   "execution_count": null,
   "id": "77749a75",
   "metadata": {},
   "outputs": [],
   "source": [
    "# Creating a scatter plot of two separate variables\n",
    "fig = px.scatter(x=new_real_estate_df['price'], y=new_real_estate_df['bed'])\n",
    "fig.show()"
   ]
  },
  {
   "cell_type": "code",
   "execution_count": null,
   "id": "5007f16d",
   "metadata": {},
   "outputs": [],
   "source": [
    "# Find outliers for price\n",
    "def find_outliers_IQR(new_real_estate_df):\n",
    "    q1=new_real_estate_df.quantile(0.25)\n",
    "    q3=new_real_estate_df.quantile(0.75)\n",
    "    IQR=q3-q1\n",
    "    outliers = new_real_estate_df[((new_real_estate_df<(q1-1.5*IQR)) | (new_real_estate_df>(q3+1.5*IQR)))]\n",
    "    return outliers\n",
    "\n",
    "outliers = find_outliers_IQR(new_real_estate_df['price'])\n",
    "print('number of outliers: '+ str(len(outliers)))\n",
    "print('max outlier value: '+ str(outliers.max()))\n",
    "print('min outlier value: '+ str(outliers.min()))"
   ]
  },
  {
   "cell_type": "code",
   "execution_count": null,
   "id": "006535f5",
   "metadata": {},
   "outputs": [],
   "source": [
    "# Find outliers for all columns and drop\n",
    "outliers = find_outliers_IQR(new_real_estate_df[['price','bed', 'bath', 'acre_lot', 'house_size']]).dropna(thresh=2)\n",
    "outliers"
   ]
  },
  {
   "cell_type": "code",
   "execution_count": null,
   "id": "6a7f8f9c",
   "metadata": {},
   "outputs": [],
   "source": [
    "# Find the expected length of the new dataframe\n",
    "(len(new_real_estate_df)) - (len(outliers))"
   ]
  },
  {
   "cell_type": "code",
   "execution_count": null,
   "id": "4398cbd8",
   "metadata": {},
   "outputs": [],
   "source": [
    "# Remove outliers\n",
    "clean_real_estate_df= new_real_estate_df[~new_real_estate_df.index.isin(outliers.index)]\n",
    "clean_real_estate_df.head()"
   ]
  },
  {
   "cell_type": "code",
   "execution_count": null,
   "id": "44ef014d",
   "metadata": {},
   "outputs": [],
   "source": [
    "# Find the length of the new dataframe\n",
    "len(clean_real_estate_df)"
   ]
  },
  {
   "cell_type": "code",
   "execution_count": null,
   "id": "10d11c7f",
   "metadata": {},
   "outputs": [],
   "source": [
    "# Remove $160 mil house\n",
    "clean_real_estate_df = clean_real_estate_df[clean_real_estate_df.price <= 160000000]"
   ]
  },
  {
   "cell_type": "code",
   "execution_count": null,
   "id": "e3a98fdf",
   "metadata": {},
   "outputs": [],
   "source": [
    "# Find the number of entries per state\n",
    "clean_real_estate_df['state'].value_counts()"
   ]
  },
  {
   "cell_type": "code",
   "execution_count": null,
   "id": "5f3f0ccd",
   "metadata": {},
   "outputs": [],
   "source": [
    "clean_real_estate_df = clean_real_estate_df.rename(columns={\"price\": \"Price\", \"bed\": \"Bed\", \"bath\": \"Bath\", \"acre_lot\": \"Acre Lot\", \"full_address\": \"Address\", \"city\": \"City\", \"state\": \"State\", \"zip_code\": \"Zip Code\", \"house_size\": \"House Size\", \"TJs_store_count\": \"Trader Joe's Proximity\", \"walmart_store_count\": \"Walmart Proximity\"})\n",
    "clean_real_estate_df.head()"
   ]
  },
  {
   "cell_type": "code",
   "execution_count": null,
   "id": "824d8e00",
   "metadata": {},
   "outputs": [],
   "source": [
    "# Plot correlation matrix\n",
    "\n",
    "df_corr = clean_real_estate_df.corr(method=\"pearson\").round(2)\n",
    "\n",
    "plt.figure(figsize=(5, 5),dpi=600)\n",
    "g=sns.heatmap(df_corr, square=True,\n",
    "            center=0, annot=True, linewidths=.5,\n",
    "            cmap=\"Blues\", cbar_kws={\"shrink\": 0.8},vmin=-1,vmax=1);\n",
    "g.set_xticklabels(g.get_xticklabels(),rotation=45,fontsize=10,ha='right')\n",
    "plt.title('Correlation Matrix')"
   ]
  },
  {
   "cell_type": "code",
   "execution_count": null,
   "id": "e03ff471",
   "metadata": {},
   "outputs": [],
   "source": [
    "# Creating histogram of prices\n",
    "fig = px.histogram(clean_real_estate_df, x='Price')\n",
    "fig.show()"
   ]
  },
  {
   "cell_type": "code",
   "execution_count": null,
   "id": "1abae4e4",
   "metadata": {},
   "outputs": [],
   "source": [
    "# Creating a box plot of prices\n",
    "fig = px.box(clean_real_estate_df, y='Price')\n",
    "fig.show()"
   ]
  },
  {
   "cell_type": "code",
   "execution_count": null,
   "id": "6a1634a9",
   "metadata": {},
   "outputs": [],
   "source": [
    "# Creating a scatter plot of two separate variables\n",
    "fig = px.scatter(x=clean_real_estate_df['Price'], y=clean_real_estate_df['Bed'])\n",
    "fig.show()"
   ]
  },
  {
   "cell_type": "code",
   "execution_count": null,
   "id": "341a45a0",
   "metadata": {},
   "outputs": [],
   "source": [
    "# Export dataframe to CSV\n",
    "compression_opts = dict(method='zip', archive_name='Resources/Clean_Real_Estate.csv')\n",
    "clean_real_estate_df.to_csv('../Resources/Clean_Real_Estate.zip', index=False, compression=compression_opts)"
   ]
  },
  {
   "cell_type": "code",
   "execution_count": null,
   "id": "f3599721",
   "metadata": {},
   "outputs": [],
   "source": []
  },
  {
   "cell_type": "code",
   "execution_count": null,
   "id": "7c92a3ad",
   "metadata": {},
   "outputs": [],
   "source": [
    "# # Export sample CSC\n",
    "# clean_real_estate_df.sample(500).to_csv('Resources/real_estate_sample_500.csv', index=False)"
   ]
  },
  {
   "cell_type": "code",
   "execution_count": null,
   "id": "826efff7",
   "metadata": {},
   "outputs": [],
   "source": [
    "# # Export sample CSC\n",
    "# clean_real_estate_df.sample(1000).to_csv('Resources/real_estate_sample_1000.csv', index=False)"
   ]
  },
  {
   "cell_type": "code",
   "execution_count": null,
   "id": "e2861eb0",
   "metadata": {},
   "outputs": [],
   "source": []
  }
 ],
 "metadata": {
  "kernelspec": {
   "display_name": "mlenv",
   "language": "python",
   "name": "mlenv"
  },
  "language_info": {
   "codemirror_mode": {
    "name": "ipython",
    "version": 3
   },
   "file_extension": ".py",
   "mimetype": "text/x-python",
   "name": "python",
   "nbconvert_exporter": "python",
   "pygments_lexer": "ipython3",
   "version": "3.7.13"
  }
 },
 "nbformat": 4,
 "nbformat_minor": 5
}
